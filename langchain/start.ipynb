{
 "cells": [
  {
   "cell_type": "code",
   "execution_count": 11,
   "id": "7502b9bb",
   "metadata": {},
   "outputs": [],
   "source": [
    "from langchain_community.llms import Ollama\n",
    "\n",
    "llm = Ollama(model = \"llama2\")"
   ]
  },
  {
   "cell_type": "code",
   "execution_count": 12,
   "id": "2c66ae3d",
   "metadata": {},
   "outputs": [
    {
     "data": {
      "text/plain": [
       "'\\nLangsmith is a language model that can assist with various aspects of software development, including testing. Here are some ways Langsmith can help with testing:\\n\\n1. Automated Testing: Langsmith can be used to generate automated tests for software applications. By analyzing the source code and identifying potential test cases, Langsmith can help create a comprehensive test suite that can be run automatically, saving time and effort compared to manual testing.\\n2. Code Coverage Analysis: Langsmith can analyze the test coverage of an application to identify areas of the code that are not being tested enough. This can help developers prioritize their testing efforts and ensure that all areas of the code are properly covered.\\n3. Defect Prediction: By analyzing the history of defects in a particular module or feature, Langsmith can predict which parts of the code are likely to have defects in the future. This can help developers proactively identify potential issues and address them before they become bigger problems.\\n4. Test Data Generation: Langsmith can generate test data automatically, such as input values or test cases, based on the structure of the code. This can save time and effort compared to manual testing, and also help ensure that all possible input combinations are tested.\\n5. Regression Testing: When changes are made to an application, Langsmith can identify the areas of the code that have changed and suggest additional tests to ensure that the changes did not introduce new defects. This can help developers avoid introducing regressions during the development process.\\n6. Code Review: Langsmith can analyze the quality of the codebase and identify potential issues, such as unused code or duplicated logic. This can help developers optimize their codebase and improve overall software quality.\\n7. Security Testing: Langsmith can identify potential security vulnerabilities in an application by analyzing the source code and identifying patterns that could lead to security issues. This can help developers address security concerns early in the development process.\\n\\nOverall, Langsmith can help automate and streamline the testing process, saving time and effort while improving the quality of the software.'"
      ]
     },
     "execution_count": 12,
     "metadata": {},
     "output_type": "execute_result"
    }
   ],
   "source": [
    "llm.invoke(\"how can langsmith help with testing?\")"
   ]
  },
  {
   "cell_type": "code",
   "execution_count": 13,
   "id": "114badad",
   "metadata": {},
   "outputs": [],
   "source": [
    "from langchain_core.prompts import ChatPromptTemplate\n",
    "prompt = ChatPromptTemplate.from_messages([\n",
    "    (\"system\", \"You are a world class technical documentation writer.\"),\n",
    "    (\"user\", \"{input}\")\n",
    "])"
   ]
  },
  {
   "cell_type": "code",
   "execution_count": 14,
   "id": "efc77931",
   "metadata": {},
   "outputs": [
    {
     "data": {
      "text/plain": [
       "\"\\nAs a world-class technical documentation writer, I'm glad you asked! Langsmith can actually play a crucial role in the testing process for several reasons:\\n\\n1. Consistency: Langsmith can help ensure consistency across your documentation by providing a standardized format and language style. This consistency can make it easier to identify and fix errors, as well as improve the overall readability of your documentation.\\n2. Collaboration: Langsmith can facilitate collaboration among team members by providing a centralized platform for document creation, review, and editing. This can help ensure that everyone is on the same page and that documentation is accurate and up-to-date.\\n3. Automated Processes: Langsmith can automate certain tasks such as generating documentation from code comments or creating documentation based on predefined templates. This can free up time for more important tasks like testing and debugging.\\n4. Testing Documentation: Langsmith can also help with the creation of testing documentation, such as test cases and test plans. By using langsmith's automated features, you can create and manage test cases more efficiently, and ensure that all necessary tests are covered.\\n5. Integration: Langsmith can integrate with your project's version control system, allowing you to easily associate documentation with specific code changes and track the evolution of your documentation over time. This integration can also help identify any issues or discrepancies between your documentation and your code.\\n6. Accessibility: With Langsmith, you can make your documentation more accessible by creating an interactive version that allows users to explore the content in a more engaging way. This can be particularly useful for complex topics where a traditional document might not be enough.\\n7. Analytics: Langsmith provides analytics capabilities that can help you track how users are interacting with your documentation, including which sections are being viewed and how long users are spending on each page. This data can help you identify areas of your documentation that may need improvement.\\n8. Customization: With Langsmith, you have the flexibility to customize the platform to fit your organization's specific needs. You can create custom templates, fields, and workflows to streamline your documentation process and make it more efficient.\\n9. Scalability: As your project grows, Langsmith can scale with it, providing a flexible and adaptable solution for managing your technical documentation. Whether you're working on a small side project or a large-scale enterprise, Langsmith can help you keep your documentation organized and up-to-date.\\n10. Security: With Langsmith, you can rest assured that your documentation is secure and protected from unauthorized access. The platform provides robust security features, such as user authentication and permission control, to ensure that only authorized users can access and modify your documentation.\\n\\nIn summary, Langsmith can help with testing by providing a centralized platform for collaboration, automating certain tasks, integrating with version control systems, making documentation more accessible, tracking user interaction, customizing the platform, scaling with the project, and providing security features.\""
      ]
     },
     "execution_count": 14,
     "metadata": {},
     "output_type": "execute_result"
    }
   ],
   "source": [
    "chain = prompt | llm \n",
    "\n",
    "chain.invoke({\"input\": \"how can langsmith help with testing?\"})"
   ]
  },
  {
   "cell_type": "code",
   "execution_count": 15,
   "id": "f0177829",
   "metadata": {},
   "outputs": [],
   "source": [
    "from langchain_core.output_parsers import StrOutputParser\n",
    "\n",
    "output_parser = StrOutputParser()"
   ]
  },
  {
   "cell_type": "code",
   "execution_count": 16,
   "id": "a5c5b86a",
   "metadata": {},
   "outputs": [
    {
     "data": {
      "text/plain": [
       "\"\\nAh, an excellent question! As a world-class technical documentation writer, I must say that Langsmith is a fantastic tool for testing purposes. Here are some ways in which Langsmith can assist with testing:\\n\\n1. Automated Content Generation: Langsmith's AI-powered content generation capabilities allow you to create automated test cases based on your documentation. This saves time and effort compared to manually creating test cases, as the tool can generate them automatically based on the information provided in your technical documentation.\\n2. Consistency Checking: Langsmith can help ensure consistency across your documentation by checking for formatting errors, broken links, and other inconsistencies. This is especially useful when working with large documents or multiple authors, as it helps maintain a uniform style and ensures that all content is accurate and up-to-date.\\n3. Error Detection: Langsmith's AI can detect potential errors in your technical documentation, such as missing information, incorrect syntax, or broken links. By catching these errors early on, you can avoid wasting time and resources on testing and debugging later on.\\n4. Documentation Validation: Langsmith can validate the accuracy of your technical documentation by comparing it to your existing product documentation or other relevant sources. This helps ensure that your documentation is accurate and up-to-date, which is essential for ensuring quality and consistency across your entire product line.\\n5. Testing for Accessibility: Langsmith's AI can help test your technical documentation for accessibility compliance by checking for proper use of alt tags, heading structures, and other accessibility features. This helps ensure that your documentation is accessible to a wide range of users, including those with disabilities.\\n6. Collaboration Tools: Langsmith's collaboration tools allow multiple authors to work together on technical documentation projects. This streamlines the testing process by allowing team members to work together more efficiently and reduce the risk of errors or inconsistencies.\\n7. Customizable Workflows: Langsmith offers customizable workflows that can be tailored to your specific testing needs. By automating repetitive tasks, you can focus on more critical aspects of testing and ensure that your technical documentation is of the highest quality.\\n8. Integration with Other Tools: Langsmith integrates seamlessly with other tools in your tech stack, such as JIRA, GitHub, or Slack. This integration helps streamline your testing process by allowing you to easily share information and collaborate with team members.\\n9. Real-time Feedback: Langsmith provides real-time feedback on the quality of your technical documentation, helping you identify and fix issues quickly. By catching errors early on, you can avoid wasting time and resources on testing and debugging later on.\\n10. Cost Savings: By automating testing tasks with Langsmith, you can save time and money by reducing the need for manual testing and debugging. This allows your team to focus on more critical aspects of product development, such as innovation and differentiation.\\n\\nIn summary, Langsmith is an invaluable tool for technical documentation writers who want to streamline their testing process, improve accuracy and consistency, and reduce the risk of errors or inconsistencies in their documentation.\""
      ]
     },
     "execution_count": 16,
     "metadata": {},
     "output_type": "execute_result"
    }
   ],
   "source": [
    "chain = prompt | llm | output_parser\n",
    "\n",
    "chain.invoke({\"input\": \"how can langsmith help with testing?\"})"
   ]
  }
 ],
 "metadata": {
  "kernelspec": {
   "display_name": "Python 3",
   "language": "python",
   "name": "python3"
  },
  "language_info": {
   "codemirror_mode": {
    "name": "ipython",
    "version": 3
   },
   "file_extension": ".py",
   "mimetype": "text/x-python",
   "name": "python",
   "nbconvert_exporter": "python",
   "pygments_lexer": "ipython3",
   "version": "3.12.3"
  }
 },
 "nbformat": 4,
 "nbformat_minor": 5
}
