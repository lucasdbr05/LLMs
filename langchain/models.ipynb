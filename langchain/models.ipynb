{
 "cells": [
  {
   "cell_type": "markdown",
   "id": "e5cbd296",
   "metadata": {},
   "source": [
    "# Models"
   ]
  },
  {
   "cell_type": "code",
   "execution_count": 1,
   "id": "8bdaac87",
   "metadata": {},
   "outputs": [
    {
     "name": "stderr",
     "output_type": "stream",
     "text": [
      "C:\\Users\\Notebook\\AppData\\Local\\Temp\\ipykernel_14344\\1908465643.py:3: LangChainDeprecationWarning: The class `Ollama` was deprecated in LangChain 0.3.1 and will be removed in 1.0.0. An updated version of the class exists in the :class:`~langchain-ollama package and should be used instead. To use it run `pip install -U :class:`~langchain-ollama` and import as `from :class:`~langchain_ollama import OllamaLLM``.\n",
      "  llm = Ollama(model = \"llama2\")\n"
     ]
    }
   ],
   "source": [
    "from langchain_community.llms import Ollama\n",
    "\n",
    "llm = Ollama(model = \"llama2\")"
   ]
  },
  {
   "cell_type": "markdown",
   "id": "80b85f4d",
   "metadata": {},
   "source": [
    "### LLMs"
   ]
  },
  {
   "cell_type": "code",
   "execution_count": 2,
   "id": "5fb123e0",
   "metadata": {},
   "outputs": [
    {
     "data": {
      "text/plain": [
       "\"\\nOnce upon a time, there was a young and curious individual named Sarah. She had always been fascinated by the way computers worked and dreamed of creating her own programs. However, she had never learned how to code before and was hesitant to dive into the world of programming.\\n\\nOne day, Sarah decided to take the leap and start learning how to program. She began with online tutorials and courses, starting with the basics of syntax and data types. At first, it was challenging, but Sarah persisted, determined to learn as much as she could.\\n\\nAs Sarah progressed in her learning journey, she encountered new concepts and technologies that broadened her horizons. She learned about different programming languages, such as Python, Java, and C++, each with their unique strengths and weaknesses. She discovered the world of web development and how to create dynamic websites and applications.\\n\\nSarah's hard work and dedication paid off when she landed her first programming job at a small startup. She was tasked with building a new feature for the company's flagship product, and she used everything she had learned to bring it to life. The project was a success, and Sarah's colleagues were impressed by her ability to learn quickly and adapt to new situations.\\n\\nAs Sarah continued to hone her skills, she began to realize that programming was not just about writing code, but also about problem-solving and creativity. She learned how to break down complex problems into smaller, manageable parts and how to think outside the box to find innovative solutions.\\n\\nSarah's journey of learning programming taught her many valuable lessons. She discovered that with persistence and dedication, anything is possible. She learned how to embrace challenges and view them as opportunities for growth. And she found that the more she learned, the more she realized how much there was still to learn.\\n\\nYears later, Sarah looks back on her journey with pride and gratitude. She knows that the skills she acquired through programming have helped her in many aspects of her life, from communicating with colleagues and clients to solving personal problems. And she is grateful for the opportunity to continue learning and growing as a programmer, always pushing herself to new heights and discovering new possibilities.\\n\\nSarah's story serves as a reminder that the journey of learning programming (or any skill) is not just about the end result but also about the growth and self-discovery that occurs along the way. With dedication, persistence, and a willingness to learn, anyone can embark on their own exciting journey of discovery and personal growth.\""
      ]
     },
     "execution_count": 2,
     "metadata": {},
     "output_type": "execute_result"
    }
   ],
   "source": [
    "question = \"Tell a story about the journey of learning programming\"\n",
    "llm.invoke(question)"
   ]
  },
  {
   "cell_type": "code",
   "execution_count": 4,
   "id": "1a501bcd",
   "metadata": {},
   "outputs": [
    {
     "name": "stdout",
     "output_type": "stream",
     "text": [
      "\n",
      "Once upon a time, there was a young person named Alex who had always been fascinated by technology and problem-solving. They had heard about the incredible opportunities that programming offered, from creating apps and websites to solving complex problems in fields like medicine and finance. But despite their interest, Alex struggled to get started with learning how to code.\n",
      "\n",
      "The first obstacle they faced was finding the right resources. There were so many different programming languages and tutorials available online, but none of them seemed to click for Alex. They tried watching videos, reading books, and even enrolling in a coding bootcamp, but no matter what they did, they couldn't seem to wrap their head around the concepts.\n",
      "\n",
      "Feeling frustrated and discouraged, Alex began to doubt their ability to learn how to program. They wondered if they were just not cut out for it, or if they were simply too old to start a new career. But despite these doubts, Alex refused to give up on their dream.\n",
      "\n",
      "One day, while scrolling through social media, Alex stumbled upon a post from a successful programmer who shared their own journey of learning how to code. The programmer talked about the struggles they had faced, and how they had overcome them by persisting in the face of difficulty. This post gave Alex a newfound sense of determination and hope.\n",
      "\n",
      "Armed with renewed enthusiasm, Alex began to explore different programming languages and resources. They started with small projects, like building a simple website or creating a game using a programming language called Python. As they worked on these projects, Alex slowly began to grasp the concepts of programming and how to apply them to solve problems.\n",
      "\n",
      "With each new project, Alex gained more confidence in their abilities. They learned how to debug their code, write cleaner and more efficient code, and even collaborate with other programmers on larger projects. As they progressed, Alex discovered that programming was not just about writing code, but also about problem-solving, critical thinking, and creativity.\n",
      "\n",
      "As the months went by, Alex became more skilled and proficient in their coding abilities. They started to work on more complex projects, like building a web application for a local business or creating a chatbot for a popular messaging platform. With each new challenge, Alex learned and grew, until they finally reached their goal of becoming a skilled programmer.\n",
      "\n",
      "Throughout their journey, Alex encountered many obstacles and setbacks, but they refused to give up. They persisted in the face of difficulty, and their hard work and determination paid off in the end. Today, Alex is a successful programmer, creating innovative solutions for businesses and organizations around the world.\n",
      "\n",
      "The moral of this story is that learning how to program can be challenging, but it is not impossible. With persistence, determination, and the right resources, anyone can overcome their struggles and achieve their goals in the field of programming. So if you are interested in learning how to code, don't give up – keep at it, and you will get there eventually!"
     ]
    }
   ],
   "source": [
    "for ans in llm.stream(question):\n",
    "    print(ans, end= \"\")"
   ]
  },
  {
   "cell_type": "markdown",
   "id": "cb8cd86a",
   "metadata": {},
   "source": [
    "### ChatModels"
   ]
  },
  {
   "cell_type": "code",
   "execution_count": 5,
   "id": "040bad72",
   "metadata": {},
   "outputs": [],
   "source": [
    "from langchain_ollama import ChatOllama\n",
    "chat = ChatOllama(model = \"llama2\")"
   ]
  },
  {
   "cell_type": "code",
   "execution_count": null,
   "id": "0f7796e6",
   "metadata": {},
   "outputs": [
    {
     "data": {
      "text/plain": [
       "AIMessage(content=\"Well, I'm glad you asked! *winks* John Kennedy is a famous comedian known for his witty one-liners and hilarious impressions. He's been in the business for decades and has made a name for himself as a master of comedy. In fact, he's so good at it that he's even got his own Netflix special! *cough* Have you seen it yet? *winks*\\n\\nBut enough about John Kennedy... let me tell you a joke instead! *grins* Why don't scientists trust atoms? Because they make up everything! *laughs* Get it? Make up? Oh, I slay me! *chuckles* Do you want to hear another one?\", additional_kwargs={}, response_metadata={'model': 'llama2', 'created_at': '2025-05-04T14:30:57.7193861Z', 'done': True, 'done_reason': 'stop', 'total_duration': 95630273700, 'load_duration': 19926751300, 'prompt_eval_count': 34, 'prompt_eval_duration': 11229370700, 'eval_count': 167, 'eval_duration': 64392204300, 'model_name': 'llama2'}, id='run--fc3f8296-7bee-4f58-bd41-706178a7d503-0', usage_metadata={'input_tokens': 34, 'output_tokens': 167, 'total_tokens': 201})"
      ]
     },
     "execution_count": 6,
     "metadata": {},
     "output_type": "execute_result"
    }
   ],
   "source": [
    "from langchain_core.messages import HumanMessage, SystemMessage\n",
    "\n",
    "messages = [\n",
    "    SystemMessage(content=\"You are an assistent that tell jokes\"),\n",
    "    HumanMessage(content=\"Who is Jonh Kennedy?\"),\n",
    "]\n",
    "\n",
    "chat.invoke(messages)"
   ]
  },
  {
   "cell_type": "markdown",
   "id": "7a6d2eae",
   "metadata": {},
   "source": [
    "### Prompt Fell-Shot"
   ]
  },
  {
   "cell_type": "code",
   "execution_count": 7,
   "id": "0fba78a2",
   "metadata": {},
   "outputs": [],
   "source": [
    "from langchain_ollama import ChatOllama\n",
    "\n",
    "chat = ChatOllama(model=\"llama2\")"
   ]
  },
  {
   "cell_type": "code",
   "execution_count": 8,
   "id": "11665d41",
   "metadata": {},
   "outputs": [
    {
     "data": {
      "text/plain": [
       "AIMessage(content='40', additional_kwargs={}, response_metadata={'model': 'llama2', 'created_at': '2025-05-04T14:47:05.0721154Z', 'done': True, 'done_reason': 'stop', 'total_duration': 45070611700, 'load_duration': 30877985500, 'prompt_eval_count': 84, 'prompt_eval_duration': 11931242700, 'eval_count': 5, 'eval_duration': 2184818900, 'model_name': 'llama2'}, id='run--e57cfc0d-9051-49fb-b305-302543afa1b2-0', usage_metadata={'input_tokens': 84, 'output_tokens': 5, 'total_tokens': 89})"
      ]
     },
     "execution_count": 8,
     "metadata": {},
     "output_type": "execute_result"
    }
   ],
   "source": [
    "from langchain_core.messages import HumanMessage, AIMessage\n",
    "\n",
    "messages = [\n",
    "    HumanMessage(content=\"How much is 5+5\"),\n",
    "    AIMessage(content=\"10\") ,\n",
    "    HumanMessage(content=\"How much is 2*3\"),\n",
    "    AIMessage(content=\"6\") ,\n",
    "    HumanMessage(content=\"How much is 10+30\"),\n",
    "]\n",
    "chat.invoke(messages)\n"
   ]
  },
  {
   "cell_type": "markdown",
   "id": "b6b9015d",
   "metadata": {},
   "source": [
    "### Caching"
   ]
  },
  {
   "cell_type": "code",
   "execution_count": null,
   "id": "0bbb75ff",
   "metadata": {},
   "outputs": [],
   "source": [
    "from langchain.cache import InMemoryCache, SQLiteCache\n",
    "from langchain.globals import set_llm_cache\n",
    "\n",
    "set_llm_cache(InMemoryCache())\n",
    "set_llm_cache(SQLiteCache(\"files/langchain_cache.sqlite\"))"
   ]
  }
 ],
 "metadata": {
  "kernelspec": {
   "display_name": "Python 3",
   "language": "python",
   "name": "python3"
  },
  "language_info": {
   "codemirror_mode": {
    "name": "ipython",
    "version": 3
   },
   "file_extension": ".py",
   "mimetype": "text/x-python",
   "name": "python",
   "nbconvert_exporter": "python",
   "pygments_lexer": "ipython3",
   "version": "3.12.3"
  }
 },
 "nbformat": 4,
 "nbformat_minor": 5
}
