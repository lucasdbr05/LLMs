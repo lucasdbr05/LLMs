{
 "cells": [
  {
   "cell_type": "markdown",
   "id": "f92af1ad",
   "metadata": {},
   "source": [
    "# Chains"
   ]
  },
  {
   "cell_type": "markdown",
   "id": "b8314e16",
   "metadata": {},
   "source": [
    "### Conversation chain"
   ]
  },
  {
   "cell_type": "code",
   "execution_count": 5,
   "id": "d2ecb05e",
   "metadata": {},
   "outputs": [],
   "source": [
    "from langchain_ollama.chat_models import ChatOllama\n",
    "from langchain.memory import ConversationBufferMemory\n",
    "from langchain.chains.conversation.base import ConversationChain\n",
    "from langchain.prompts import PromptTemplate"
   ]
  },
  {
   "cell_type": "code",
   "execution_count": 4,
   "id": "3f01a893",
   "metadata": {},
   "outputs": [],
   "source": [
    "chat = ChatOllama(model=\"llama2\")\n",
    "memory = ConversationBufferMemory()\n",
    "\n",
    "chain = ConversationChain(\n",
    "    llm= chat,\n",
    "    memory= memory,\n",
    "    verbose= True\n",
    ")"
   ]
  },
  {
   "cell_type": "code",
   "execution_count": 6,
   "id": "6f412424",
   "metadata": {},
   "outputs": [
    {
     "name": "stderr",
     "output_type": "stream",
     "text": [
      "C:\\Users\\Notebook\\AppData\\Local\\Temp\\ipykernel_13680\\3702201645.py:1: LangChainDeprecationWarning: The method `Chain.run` was deprecated in langchain 0.1.0 and will be removed in 1.0. Use :meth:`~invoke` instead.\n",
      "  chain.run(\"Olá\")\n"
     ]
    },
    {
     "name": "stdout",
     "output_type": "stream",
     "text": [
      "\n",
      "\n",
      "\u001b[1m> Entering new ConversationChain chain...\u001b[0m\n",
      "Prompt after formatting:\n",
      "\u001b[32;1m\u001b[1;3mThe following is a friendly conversation between a human and an AI. The AI is talkative and provides lots of specific details from its context. If the AI does not know the answer to a question, it truthfully says it does not know.\n",
      "\n",
      "Current conversation:\n",
      "\n",
      "Human: Olá\n",
      "AI:\u001b[0m\n",
      "\n",
      "\u001b[1m> Finished chain.\u001b[0m\n"
     ]
    },
    {
     "data": {
      "text/plain": [
       "'Bot: Olá! *adjusts aviator glasses* It\\'s a pleasure to meet you! I hope you\\'re having a great day. By the way, have you tried my favorite food? It\\'s a type of algae called \"Spirulina\". It\\'s packed with nutrients and tastes like a cross between a freshwater fish and a green apple. *winks*'"
      ]
     },
     "execution_count": 6,
     "metadata": {},
     "output_type": "execute_result"
    }
   ],
   "source": [
    "chain.run(\"Olá\")"
   ]
  },
  {
   "cell_type": "code",
   "execution_count": 8,
   "id": "14e7d19b",
   "metadata": {},
   "outputs": [],
   "source": [
    "prompt = PromptTemplate.from_template(\"\"\"\n",
    "Essa é uma conversa amigável entre um humano e uma IA.\n",
    "                                      \n",
    "Conversa atual:\n",
    "                                      \n",
    "{history}\n",
    "Human: {input}\n",
    "AI:\"\"\")"
   ]
  },
  {
   "cell_type": "code",
   "execution_count": 9,
   "id": "d9ef370d",
   "metadata": {},
   "outputs": [],
   "source": [
    "chat = ChatOllama(model=\"llama2\")\n",
    "memory = ConversationBufferMemory()\n",
    "\n",
    "chain = ConversationChain(\n",
    "    llm= chat,\n",
    "    memory= memory,\n",
    "    prompt=prompt,\n",
    "    verbose= True\n",
    ")"
   ]
  },
  {
   "cell_type": "code",
   "execution_count": 11,
   "id": "1c5b79f4",
   "metadata": {},
   "outputs": [
    {
     "name": "stdout",
     "output_type": "stream",
     "text": [
      "\n",
      "\n",
      "\u001b[1m> Entering new ConversationChain chain...\u001b[0m\n",
      "Prompt after formatting:\n",
      "\u001b[32;1m\u001b[1;3m\n",
      "Essa é uma conversa amigável entre um humano e uma IA.\n",
      "                                      \n",
      "Conversa atual:\n",
      "                                      \n",
      "\n",
      "Human: Opa, salve LLM\n",
      "AI:\u001b[0m\n",
      "\n",
      "\u001b[1m> Finished chain.\u001b[0m\n"
     ]
    },
    {
     "data": {
      "text/plain": [
       "\"Hello there! *adjusts glasses* It's a pleasure to meet you! *nervous smile* Is there something I can help you with?\""
      ]
     },
     "execution_count": 11,
     "metadata": {},
     "output_type": "execute_result"
    }
   ],
   "source": [
    "chain.run(\"Opa, salve LLM\")"
   ]
  },
  {
   "cell_type": "markdown",
   "id": "76c31efd",
   "metadata": {},
   "source": [
    "## LLM Chain"
   ]
  },
  {
   "cell_type": "code",
   "execution_count": 12,
   "id": "5caa7b65",
   "metadata": {},
   "outputs": [],
   "source": [
    "from langchain.chains.llm import  LLMChain"
   ]
  },
  {
   "cell_type": "code",
   "execution_count": 14,
   "id": "cc7f7354",
   "metadata": {},
   "outputs": [
    {
     "data": {
      "text/plain": [
       "' Escolher um nome de empresa para um produto de carros de corrida pode ser um desafio, pois precisa conter informações relevantes e atraentes para os clientes potenciais. Aqui estão algumas sugestões de nomes de empresas que podem funcionar bem para um produto de carros de corrida:\\n\\n1. Speedster Racing - Este nome transmite velocidade e competitividade, além de ser fácil de pronunciar e lembrar.\\n2. Velociracing - Combinando \"velocity\" (velocidade) e \"racing\", este nome transmite a ideia de velocidade e competitividade em uma linguagem simples e memorável.\\n3. TrackTales - Este nome combina \"track\" (curso de corrida) e \"tales\" (histórias), sugerindo que a empresa tem histórias de sucesso em corridas.\\n4. PaceRacer - Combining \"pace\" (velocidade) and \"racer\", este nome transmite a ideia de competitividade e velocidade.\\n5. CircuitWings - Este nome combina \"circuit\" (curso de corrida) e \"wings\" (alas), sugerindo que a empresa tem asas para voar em corridas.\\n6. Racer\\'s Edge - Este nome transmite a ideia de ter um advantage (vantagem) ou edge (fronteira) em competições de corrida.\\n7. PitCrew - Combining \"pit\" (parque de boxe) and \"crew\", este nome transmite a ideia de uma equipe de pessoas trabalhando juntas para alcançar um objetivo comum.\\n8. FinishLine - Este nome transmite a ideia de chegar ao fim de uma competição e conseguir ser o melhor.\\n9. RacePro - Combining \"race\" (corrida) and \"pro\", este nome transmite a ideia de ser um profissional em corridas.\\n10. ThunderRacing - Este nome transmite a ideia de velocidade e poder, com a referência ao som do dedo que atinge o chão quando uma corrida é realizada.\\n\\nLembre-se de que o nome da empresa pode ser influenciado por vários fatores, como o tipo de carro, o público-alvo, a cultura e a imagem que você deseja transmitir. É importante escolher um nome que seja relevante para o seu negócio e atraente para seus clientes potenciais.'"
      ]
     },
     "execution_count": 14,
     "metadata": {},
     "output_type": "execute_result"
    }
   ],
   "source": [
    "prompt = PromptTemplate.from_template(\"\"\"\n",
    "Qual é o melhor nome de empresa que desenvolve o produto {produto}\n",
    "\"\"\")\n",
    "\n",
    "\n",
    "chain = LLMChain(llm= chat, prompt=prompt)\n",
    "chain.run(\"carros de corrida\")"
   ]
  },
  {
   "cell_type": "markdown",
   "id": "6ae938f5",
   "metadata": {},
   "source": [
    "## Simple Sequential Chain"
   ]
  },
  {
   "cell_type": "code",
   "execution_count": 15,
   "id": "f4c3b987",
   "metadata": {},
   "outputs": [],
   "source": [
    "prompt = PromptTemplate.from_template(\n",
    "    '''Qual o melhor nome de empresa para\n",
    "    uma empresa que desenvolve o produto: {produto}.\n",
    "    Retorne apenas um nome.'''\n",
    ")\n",
    "\n",
    "chain_nome = LLMChain(llm=chat, prompt=prompt)\n",
    "\n",
    "prompt_descricao = PromptTemplate.from_template(\n",
    "    '''Dado a empresa com o seguinte nome: {nome_empresa}.\n",
    "    Dê uma descrição de até 50 palavras das atividades\n",
    "    dessa empresa.'''\n",
    ")\n",
    "\n",
    "chain_description = LLMChain(llm=chat, prompt=prompt)"
   ]
  },
  {
   "cell_type": "code",
   "execution_count": 16,
   "id": "45f67133",
   "metadata": {},
   "outputs": [
    {
     "name": "stdout",
     "output_type": "stream",
     "text": [
      "\n",
      "\n",
      "\u001b[1m> Entering new SimpleSequentialChain chain...\u001b[0m\n",
      "\u001b[36;1m\u001b[1;3m\n",
      "GlasPro - uma combinação de \"glass\" (vidro em inglês) e \"pro\" (short para \"professional\"), sugerindo habilidade e experiência na fabricação de copos de vidro.\u001b[0m\n",
      "\u001b[33;1m\u001b[1;3m\n",
      "Embrex - uma combinação de \"emblema\" e \"dexterity\", sugerindo qualidade e habilidade na fabricação de copos de vidro.\u001b[0m\n",
      "\n",
      "\u001b[1m> Finished chain.\u001b[0m\n"
     ]
    },
    {
     "data": {
      "text/plain": [
       "'\\nEmbrex - uma combinação de \"emblema\" e \"dexterity\", sugerindo qualidade e habilidade na fabricação de copos de vidro.'"
      ]
     },
     "execution_count": 16,
     "metadata": {},
     "output_type": "execute_result"
    }
   ],
   "source": [
    "from langchain.chains import SimpleSequentialChain\n",
    "\n",
    "chain = SimpleSequentialChain(\n",
    "    chains = [chain_nome, chain_description],\n",
    "    verbose = True\n",
    ")\n",
    "\n",
    "chain.run(\"Copos de vidro\")"
   ]
  },
  {
   "cell_type": "markdown",
   "id": "93f998c7",
   "metadata": {},
   "source": [
    "## Sequential Chain"
   ]
  },
  {
   "cell_type": "code",
   "execution_count": 17,
   "id": "80479f6e",
   "metadata": {},
   "outputs": [],
   "source": [
    "prompt = PromptTemplate.from_template(\n",
    "    '''Qual o melhor nome de empresa para\n",
    "    uma empresa que desenvolve o produto: {produto}.\n",
    "    Retorne apenas um nome.'''\n",
    ")\n",
    "\n",
    "chain_nome = LLMChain(llm=chat, prompt=prompt, output_key=\"nome_empresa\")\n",
    "\n",
    "prompt_descricao = PromptTemplate.from_template(\n",
    "    '''Dado a empresa com o seguinte nome: {nome_empresa}.\n",
    "    Dê uma descrição de até 50 palavras das atividades\n",
    "    dessa empresa.'''\n",
    ")\n",
    "\n",
    "chain_description = LLMChain(llm=chat, prompt=prompt, output_key=\"description\")\n",
    "\n",
    "\n",
    "prompt_descricao = PromptTemplate.from_template(\n",
    "    '''Traduza o seguinte texto para inglês: {description}'''\n",
    ")\n",
    "\n",
    "chain_translate = LLMChain(llm=chat, prompt=prompt, output_key='translation')"
   ]
  },
  {
   "cell_type": "code",
   "execution_count": 23,
   "id": "0c6ae08e",
   "metadata": {},
   "outputs": [
    {
     "name": "stdout",
     "output_type": "stream",
     "text": [
      "\n",
      "\n",
      "\u001b[1m> Entering new SequentialChain chain...\u001b[0m\n",
      "\n",
      "\u001b[1m> Finished chain.\u001b[0m\n"
     ]
    },
    {
     "data": {
      "text/plain": [
       "{'produto': 'Copos de vidro',\n",
       " 'nome_empresa': '\\nGlassTreasures',\n",
       " 'description': '\\nGlasTech - uma combinação de \"glass\" (vidro) e \"tech\" (técnica), que transmite habilidade e inovação na fabricação de copos de vidro.',\n",
       " 'translation': '\\nBased on your description, here are some potential names for a glass cup company:\\n\\n1. CrystalCups - This name plays off the idea of crystal clear glass and the word \"cups.\"\\n2. GlassWave - This name suggests movement and fluidity, which could be appealing for a product made of glass.\\n3. Vidrio - This is the Spanish word for \"glass,\" which could be a unique and memorable name for your company.\\n4. FusionGlass - This name plays off the idea of fusion, as in the fusion of different materials, and could suggest innovation and creativity.\\n5. GlassMasters - This name suggests expertise and mastery in the craft of glassmaking, which could be appealing to customers looking for high-quality products.\\n6. TransparentGlass - This name emphasizes the transparency and clarity of your product, which could be an attractive feature for customers.'}"
      ]
     },
     "execution_count": 23,
     "metadata": {},
     "output_type": "execute_result"
    }
   ],
   "source": [
    "from langchain.chains import SequentialChain\n",
    "\n",
    "chain = SequentialChain(\n",
    "    chains = [chain_nome, chain_description, chain_translate],\n",
    "    input_variables=[\"produto\"],\n",
    "    output_variables= [\"nome_empresa\", \"description\", \"translation\"],\n",
    "    verbose = True\n",
    ")\n",
    "\n",
    "chain.invoke(\"Copos de vidro\")"
   ]
  },
  {
   "cell_type": "markdown",
   "id": "0eba4a60",
   "metadata": {},
   "source": [
    "## Router Chain"
   ]
  },
  {
   "cell_type": "code",
   "execution_count": 24,
   "id": "7d1df015",
   "metadata": {},
   "outputs": [],
   "source": [
    "from langchain_ollama import ChatOllama\n",
    "from langchain_core.prompts import ChatPromptTemplate\n",
    "\n",
    "model = ChatOllama(model='llama2')\n",
    "\n",
    "prompt = ChatPromptTemplate.from_template('''Você é um professor de matemática de ensino fundamental\n",
    "capaz de dar respostas muito detalhadas e didáticas. Responda a seguinte pergunta de um aluno:\n",
    "Pergunta: {pergunta}''')\n",
    "chain_matematica = prompt | model\n",
    "\n",
    "prompt = ChatPromptTemplate.from_template('''Você é um professor de física de ensino fundamental\n",
    "capaz de dar respostas muito detalhadas e didáticas. Responda a seguinte pergunta de um aluno:\n",
    "Pergunta: {pergunta}''')\n",
    "chain_fisica = prompt | model\n",
    "\n",
    "prompt = ChatPromptTemplate.from_template('''Você é um professor de história de ensino fundamental\n",
    "capaz de dar respostas muito detalhadas e didáticas. Responda a seguinte pergunta de um aluno:\n",
    "Pergunta: {pergunta}''')\n",
    "chain_historia = prompt | model\n",
    "\n",
    "prompt = ChatPromptTemplate.from_template('''{pergunta}''')\n",
    "chain_generica = prompt | model"
   ]
  },
  {
   "cell_type": "code",
   "execution_count": 25,
   "id": "efe03a29",
   "metadata": {},
   "outputs": [
    {
     "data": {
      "text/plain": [
       "Categorizador(area_conhecimento='Independência dos Estados Unidos')"
      ]
     },
     "execution_count": 25,
     "metadata": {},
     "output_type": "execute_result"
    }
   ],
   "source": [
    "from pydantic import BaseModel, Field\n",
    "\n",
    "prompt = ChatPromptTemplate.from_template('Você deve categorizar a seguinte pergunta: {pergunta}')\n",
    "\n",
    "class Categorizador(BaseModel):\n",
    "    \"\"\"Categoriza as perguntas de alunos do ensino fundamental\"\"\"\n",
    "    area_conhecimento: str = Field(description='A área de conhecimento da pergunta feita pelo aluno. \\\n",
    "    Deve ser \"física\", \"matemática\" ou \"história\". Caso não se encaixe em nenhuma delas, retorne \"outra\"')\n",
    "\n",
    "model_estruturado = prompt | model.with_structured_output(Categorizador)\n",
    "model_estruturado.invoke({'pergunta': 'Quando foi a inependencia dos estados unidos?'})"
   ]
  },
  {
   "cell_type": "code",
   "execution_count": 27,
   "id": "244d3053",
   "metadata": {},
   "outputs": [
    {
     "data": {
      "text/plain": [
       "{'pergunta': 'Quando foi a inependencia dos estados unidos?',\n",
       " 'categoria': Categorizador(area_conhecimento='História Americana')}"
      ]
     },
     "execution_count": 27,
     "metadata": {},
     "output_type": "execute_result"
    }
   ],
   "source": [
    "from langchain_core.runnables import RunnablePassthrough\n",
    "\n",
    "chain = RunnablePassthrough().assign(categoria=model_estruturado)\n",
    "chain.invoke({'pergunta': 'Quando foi a inependencia dos estados unidos?'})"
   ]
  },
  {
   "cell_type": "code",
   "execution_count": 29,
   "id": "5d238e0d",
   "metadata": {},
   "outputs": [
    {
     "data": {
      "text/plain": [
       "AIMessage(content='\\n A Independência dos Estados Unidos aconteceu em 4 de julho de 1776, quando o Continental Congress declarou a independência da Grã-Bretanha. Esse dia é comemorado como o Dia de Independência nos Estados Unidos. Antes disso, os colonos americanos tinham sido submetidos às leis e taxas da Grã-Bretanha desde o início do século XVII. A disputa entre as duas partes se intensificou com o tempo, especialmente após a promulgação da Lei das Colônias em 1765, que impôs novas taxas e restrições aos colonos.\\n\\nA resistência dos colonos ao domínio britânico culminou na Declaração de Independência, redigida por Thomas Jefferson e aprovada pelo Continental Congress em 4 de julho de 1776. A declaração afirmava que os Estados Unidos eram um país independente e soberano, com direitos inalienáveis para seus ciudadanos, como liberdade, igualdade e propriedade.\\n\\nApós a Declaração de Independência, o conflito entre os Estados Unidos e a Grã-Bretanha continuou por algum tempo, antes do Tratado de Paris ser assinado em 1783, oficializando a independência dos Estados Unidos.', additional_kwargs={}, response_metadata={'model': 'llama2', 'created_at': '2025-05-26T20:56:38.6204665Z', 'done': True, 'done_reason': 'stop', 'total_duration': 199821656600, 'load_duration': 186747000, 'prompt_eval_count': 33, 'prompt_eval_duration': 5956564900, 'eval_count': 317, 'eval_duration': 193522302000, 'model_name': 'llama2'}, id='run--bc4a99f9-9b85-42ac-afac-f20bf79dfb1d-0', usage_metadata={'input_tokens': 33, 'output_tokens': 317, 'total_tokens': 350})"
      ]
     },
     "execution_count": 29,
     "metadata": {},
     "output_type": "execute_result"
    }
   ],
   "source": [
    "def route(input):\n",
    "    if input['categoria'].area_conhecimento == 'matemática':\n",
    "        return chain_matematica\n",
    "    if input['categoria'].area_conhecimento == 'física':\n",
    "        return chain_fisica\n",
    "    if input['categoria'].area_conhecimento == 'história':\n",
    "        return chain_historia\n",
    "    return chain_generica\n",
    "\n",
    "chain = RunnablePassthrough().assign(categoria=model_estruturado) | route\n",
    "chain.invoke({'pergunta': 'Quando foi a inependencia dos estados unidos?'})"
   ]
  }
 ],
 "metadata": {
  "kernelspec": {
   "display_name": "Python 3",
   "language": "python",
   "name": "python3"
  },
  "language_info": {
   "codemirror_mode": {
    "name": "ipython",
    "version": 3
   },
   "file_extension": ".py",
   "mimetype": "text/x-python",
   "name": "python",
   "nbconvert_exporter": "python",
   "pygments_lexer": "ipython3",
   "version": "3.12.3"
  }
 },
 "nbformat": 4,
 "nbformat_minor": 5
}
