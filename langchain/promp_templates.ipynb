{
 "cells": [
  {
   "cell_type": "markdown",
   "id": "a2f118d0",
   "metadata": {},
   "source": [
    "# Prompt Templates"
   ]
  },
  {
   "cell_type": "code",
   "execution_count": 1,
   "id": "9e0eb79d",
   "metadata": {},
   "outputs": [],
   "source": [
    "from langchain_ollama import OllamaLLM\n",
    "\n",
    "llm = OllamaLLM(model=\"llama2\")"
   ]
  },
  {
   "cell_type": "code",
   "execution_count": 8,
   "id": "f8cca703",
   "metadata": {},
   "outputs": [],
   "source": [
    "from langchain.prompts import PromptTemplate\n",
    "\n",
    "template = PromptTemplate.from_template('''\n",
    "Answer the following question in at most {n} words: {question}\n",
    "''')"
   ]
  },
  {
   "cell_type": "code",
   "execution_count": 9,
   "id": "a2ddb0ed",
   "metadata": {},
   "outputs": [
    {
     "data": {
      "text/plain": [
       "'\\nAnswer the following question in at most 10 words: Who is Jonh Kennedy?\\n'"
      ]
     },
     "execution_count": 9,
     "metadata": {},
     "output_type": "execute_result"
    }
   ],
   "source": [
    "template.format(n=10, question=\"Who is Jonh Kennedy?\")"
   ]
  },
  {
   "cell_type": "markdown",
   "id": "f75e7be7",
   "metadata": {},
   "source": [
    "### Composing prompts"
   ]
  },
  {
   "cell_type": "code",
   "execution_count": 10,
   "id": "58f10056",
   "metadata": {},
   "outputs": [],
   "source": [
    "template_n_words = PromptTemplate.from_template('''\n",
    "Answer the a question in at most {n} words\n",
    "''')\n",
    "\n",
    "template_question = PromptTemplate.from_template('''\n",
    "Answer the following question: {question}\n",
    "''')\n",
    "\n",
    "template = template_n_words + template_question"
   ]
  },
  {
   "cell_type": "code",
   "execution_count": 11,
   "id": "52f8a8da",
   "metadata": {},
   "outputs": [
    {
     "data": {
      "text/plain": [
       "'\\nAnswer the a question in at most 10 words\\n\\nAnswer the following question: Who is Jonh Kennedy?\\n'"
      ]
     },
     "execution_count": 11,
     "metadata": {},
     "output_type": "execute_result"
    }
   ],
   "source": [
    "template.format(n=10, question= \"Who is Jonh Kennedy?\")"
   ]
  },
  {
   "cell_type": "markdown",
   "id": "436960cb",
   "metadata": {},
   "source": [
    "### Chat Templates"
   ]
  },
  {
   "cell_type": "code",
   "execution_count": 13,
   "id": "a8bc4f8b",
   "metadata": {},
   "outputs": [
    {
     "data": {
      "text/plain": [
       "[HumanMessage(content='This is my doubt: Who are you?', additional_kwargs={}, response_metadata={})]"
      ]
     },
     "execution_count": 13,
     "metadata": {},
     "output_type": "execute_result"
    }
   ],
   "source": [
    "from langchain.prompts import ChatPromptTemplate\n",
    "\n",
    "template = ChatPromptTemplate.from_template(\"This is my doubt: {text}\")\n",
    "\n",
    "template.format_messages(text=\"Who are you?\")"
   ]
  },
  {
   "cell_type": "code",
   "execution_count": 17,
   "id": "539c0316",
   "metadata": {},
   "outputs": [
    {
     "data": {
      "text/plain": [
       "[SystemMessage(content='You are a assistent named Flu', additional_kwargs={}, response_metadata={}),\n",
       " HumanMessage(content='Hi, how are you?', additional_kwargs={}, response_metadata={}),\n",
       " AIMessage(content=\"I'm better now, how can I help you?\", additional_kwargs={}, response_metadata={})]"
      ]
     },
     "execution_count": 17,
     "metadata": {},
     "output_type": "execute_result"
    }
   ],
   "source": [
    "from langchain.prompts import ChatPromptTemplate\n",
    "\n",
    "template = ChatPromptTemplate.from_messages([\n",
    "    ('system', 'You are a assistent named {name}'),\n",
    "    ('human', 'Hi, how are you?'),\n",
    "    ('ai', \"I'm better now, how can I help you?\"),\n",
    "])\n",
    "\n",
    "template.format_messages(name=\"Flu\")"
   ]
  },
  {
   "cell_type": "markdown",
   "id": "5e18d200",
   "metadata": {},
   "source": [
    "### Few shot prompts"
   ]
  },
  {
   "cell_type": "code",
   "execution_count": 23,
   "id": "33c0e90a",
   "metadata": {},
   "outputs": [],
   "source": [
    "exemples = [\n",
    "    {\"question\": \"Who lived longer, Muhammad Ali or Alan Turing?\", \n",
    "     \"answer\": \n",
    "     \"\"\"Are follow-up questions needed here: Yes. \n",
    "Follow-up question: How old was Muhammad Ali when he died? \n",
    "Intermediate answer: Muhammad Ali was 74 years old when he died. \n",
    "Follow-up question: How old was Alan Turing when he died? \n",
    "Intermediate answer: Alan Turing was 41 years old when he died. \n",
    "So the final answer is: Muhammad Ali \n",
    "\"\"\", \n",
    "    }, \n",
    "    {\"question\": \"When was the founder of craigslist born?\", \n",
    "     \"answer\": \n",
    "\"\"\"Are follow-up questions needed here: Yes. \n",
    "Follow-up question: Who was the founder of craigslist? \n",
    "Intermediate answer: Craigslist was founded by Craig Newmark. \n",
    "Follow-up question: When was Craig Newmark born? \n",
    "Intermediate answer: Craig Newmark was born on December 6, 1952. \n",
    "So the final answer is: December 6, 1952 \n",
    "\"\"\", \n",
    "    }, \n",
    "    {\"question\": \"Who was George Washington's maternal grandfather?\",\n",
    "     \"answer\": \n",
    "\"\"\"Are follow-up questions needed here: Yes. \n",
    "Follow-up question: Who was George Washington's mother? \n",
    "Intermediate answer: George Washington's mother was Mary Ball Washington. \n",
    "Follow-up question: Who was Mary Ball Washington's father? \n",
    "Intermediate answer: Mary Ball Washington's father was Joseph Ball. \n",
    "So the final answer is: Joseph Ball \n",
    "\"\"\", \n",
    "    },\n",
    "    {\"question\": \"Are the directors of Jaws and Casino Royale from the same country?\", \n",
    "     \"answer\": \n",
    "\"\"\"Are follow-up questions needed here: Yes. \n",
    "Follow-up question: Who is the director of Jaws? \n",
    "Intermediate answer: The director of Jaws is Steven Spielberg. \n",
    "Follow-up question: Where is Steven Spielberg from? \n",
    "Intermediate answer: United States. \n",
    "Follow-up question: Who is the director of Casino Royale? \n",
    "Intermediate answer: The director of Casino Royale is Martin Campbell. \n",
    "Follow-up question: Where is Martin Campbell from? \n",
    "Intermediate answer: New Zealand. \n",
    "So the final answer is: No \n",
    "\"\"\",\n",
    "    },\n",
    "]"
   ]
  },
  {
   "cell_type": "code",
   "execution_count": 24,
   "id": "4f587995",
   "metadata": {},
   "outputs": [
    {
     "data": {
      "text/plain": [
       "'Question: Who lived longer, Muhammad Ali or Alan Turing?\\nAre follow-up questions needed here: Yes. \\nFollow-up question: How old was Muhammad Ali when he died? \\nIntermediate answer: Muhammad Ali was 74 years old when he died. \\nFollow-up question: How old was Alan Turing when he died? \\nIntermediate answer: Alan Turing was 41 years old when he died. \\nSo the final answer is: Muhammad Ali \\n'"
      ]
     },
     "execution_count": 24,
     "metadata": {},
     "output_type": "execute_result"
    }
   ],
   "source": [
    "from langchain.prompts.few_shot import FewShotPromptTemplate\n",
    "from langchain.prompts.prompt import PromptTemplate\n",
    "\n",
    "example_prompt = PromptTemplate(\n",
    "    input_variables=['question', 'answer'],\n",
    "    template='Question: {question}\\n{answer}'\n",
    ")\n",
    "\n",
    "example_prompt.format(**exemples[0])"
   ]
  },
  {
   "cell_type": "code",
   "execution_count": 25,
   "id": "b9e10c7e",
   "metadata": {},
   "outputs": [
    {
     "data": {
      "text/plain": [
       "FewShotPromptTemplate(input_variables=['input'], input_types={}, partial_variables={}, examples=[{'question': 'Who lived longer, Muhammad Ali or Alan Turing?', 'answer': 'Are follow-up questions needed here: Yes. \\nFollow-up question: How old was Muhammad Ali when he died? \\nIntermediate answer: Muhammad Ali was 74 years old when he died. \\nFollow-up question: How old was Alan Turing when he died? \\nIntermediate answer: Alan Turing was 41 years old when he died. \\nSo the final answer is: Muhammad Ali \\n'}, {'question': 'When was the founder of craigslist born?', 'answer': 'Are follow-up questions needed here: Yes. \\nFollow-up question: Who was the founder of craigslist? \\nIntermediate answer: Craigslist was founded by Craig Newmark. \\nFollow-up question: When was Craig Newmark born? \\nIntermediate answer: Craig Newmark was born on December 6, 1952. \\nSo the final answer is: December 6, 1952 \\n'}, {'question': \"Who was George Washington's maternal grandfather?\", 'answer': \"Are follow-up questions needed here: Yes. \\nFollow-up question: Who was George Washington's mother? \\nIntermediate answer: George Washington's mother was Mary Ball Washington. \\nFollow-up question: Who was Mary Ball Washington's father? \\nIntermediate answer: Mary Ball Washington's father was Joseph Ball. \\nSo the final answer is: Joseph Ball \\n\"}, {'question': 'Are the directors of Jaws and Casino Royale from the same country?', 'answer': 'Are follow-up questions needed here: Yes. \\nFollow-up question: Who is the director of Jaws? \\nIntermediate answer: The director of Jaws is Steven Spielberg. \\nFollow-up question: Where is Steven Spielberg from? \\nIntermediate answer: United States. \\nFollow-up question: Who is the director of Casino Royale? \\nIntermediate answer: The director of Casino Royale is Martin Campbell. \\nFollow-up question: Where is Martin Campbell from? \\nIntermediate answer: New Zealand. \\nSo the final answer is: No \\n'}], example_prompt=PromptTemplate(input_variables=['answer', 'question'], input_types={}, partial_variables={}, template='Question: {question}\\n{answer}'), suffix='Question: {input}')"
      ]
     },
     "execution_count": 25,
     "metadata": {},
     "output_type": "execute_result"
    }
   ],
   "source": [
    "prompt = FewShotPromptTemplate(\n",
    "    examples=exemples,\n",
    "    example_prompt=example_prompt,\n",
    "    suffix='Question: {input}',\n",
    "    input_variables=['input']\n",
    ")\n",
    "prompt"
   ]
  },
  {
   "cell_type": "code",
   "execution_count": 27,
   "id": "d9315d48",
   "metadata": {},
   "outputs": [
    {
     "name": "stdout",
     "output_type": "stream",
     "text": [
      "Question: Who lived longer, Muhammad Ali or Alan Turing?\n",
      "Are follow-up questions needed here: Yes. \n",
      "Follow-up question: How old was Muhammad Ali when he died? \n",
      "Intermediate answer: Muhammad Ali was 74 years old when he died. \n",
      "Follow-up question: How old was Alan Turing when he died? \n",
      "Intermediate answer: Alan Turing was 41 years old when he died. \n",
      "So the final answer is: Muhammad Ali \n",
      "\n",
      "\n",
      "Question: When was the founder of craigslist born?\n",
      "Are follow-up questions needed here: Yes. \n",
      "Follow-up question: Who was the founder of craigslist? \n",
      "Intermediate answer: Craigslist was founded by Craig Newmark. \n",
      "Follow-up question: When was Craig Newmark born? \n",
      "Intermediate answer: Craig Newmark was born on December 6, 1952. \n",
      "So the final answer is: December 6, 1952 \n",
      "\n",
      "\n",
      "Question: Who was George Washington's maternal grandfather?\n",
      "Are follow-up questions needed here: Yes. \n",
      "Follow-up question: Who was George Washington's mother? \n",
      "Intermediate answer: George Washington's mother was Mary Ball Washington. \n",
      "Follow-up question: Who was Mary Ball Washington's father? \n",
      "Intermediate answer: Mary Ball Washington's father was Joseph Ball. \n",
      "So the final answer is: Joseph Ball \n",
      "\n",
      "\n",
      "Question: Are the directors of Jaws and Casino Royale from the same country?\n",
      "Are follow-up questions needed here: Yes. \n",
      "Follow-up question: Who is the director of Jaws? \n",
      "Intermediate answer: The director of Jaws is Steven Spielberg. \n",
      "Follow-up question: Where is Steven Spielberg from? \n",
      "Intermediate answer: United States. \n",
      "Follow-up question: Who is the director of Casino Royale? \n",
      "Intermediate answer: The director of Casino Royale is Martin Campbell. \n",
      "Follow-up question: Where is Martin Campbell from? \n",
      "Intermediate answer: New Zealand. \n",
      "So the final answer is: No \n",
      "\n",
      "\n",
      "Question: Who scored more goals, Romário or Pelé?\n"
     ]
    }
   ],
   "source": [
    "print(prompt.format(input='Who scored more goals, Romário or Pelé?'))"
   ]
  }
 ],
 "metadata": {
  "kernelspec": {
   "display_name": "Python 3",
   "language": "python",
   "name": "python3"
  },
  "language_info": {
   "codemirror_mode": {
    "name": "ipython",
    "version": 3
   },
   "file_extension": ".py",
   "mimetype": "text/x-python",
   "name": "python",
   "nbconvert_exporter": "python",
   "pygments_lexer": "ipython3",
   "version": "3.12.3"
  }
 },
 "nbformat": 4,
 "nbformat_minor": 5
}
