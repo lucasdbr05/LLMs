{
 "cells": [
  {
   "cell_type": "markdown",
   "id": "66552a1f",
   "metadata": {},
   "source": [
    "# Output Parser\n"
   ]
  },
  {
   "cell_type": "code",
   "execution_count": 1,
   "id": "afc927ef",
   "metadata": {},
   "outputs": [],
   "source": [
    "from langchain.output_parsers import ResponseSchema, StructuredOutputParser"
   ]
  },
  {
   "cell_type": "code",
   "execution_count": 30,
   "id": "db059846",
   "metadata": {},
   "outputs": [],
   "source": [
    "schema_gift = ResponseSchema(\n",
    "    name=\"gift\",\n",
    "    type='bool',\n",
    "    description=\"Was the item  bought by someone? true if yes, otherwise or if there is not this info false\"\n",
    ")\n",
    "schema_delivery = ResponseSchema(\n",
    "    name=\"delivery_time\",\n",
    "    type='int',\n",
    "    description=\"Time spent to deliver the gift. If the information is missing return -1\"\n",
    ")\n",
    "schema_perception = ResponseSchema(\n",
    "    name=\"value_perception\",\n",
    "    type='list',\n",
    "    description=\"Extract a python list with any phrase about the product value or price\"\n",
    ")"
   ]
  },
  {
   "cell_type": "code",
   "execution_count": 31,
   "id": "a537d8d2",
   "metadata": {},
   "outputs": [],
   "source": [
    "output_parser = StructuredOutputParser.from_response_schemas([schema_gift, schema_delivery, schema_perception])"
   ]
  },
  {
   "cell_type": "code",
   "execution_count": 6,
   "id": "194612bd",
   "metadata": {},
   "outputs": [
    {
     "name": "stdout",
     "output_type": "stream",
     "text": [
      "The output should be a markdown code snippet formatted in the following schema, including the leading and trailing \"```json\" and \"```\":\n",
      "\n",
      "```json\n",
      "{\n",
      "\t\"gift\": bool  // Was the item  bought by someone? True if yes, otherwise or if there is not this info False\n",
      "\t\"delivery_time\": int  // Time spent to deliver the gift. If the information is missing return -1\n",
      "\t\"value_perception\": list  // Extract a python list with any phrase about the product value or price\n",
      "}\n",
      "```\n"
     ]
    }
   ],
   "source": [
    "print(output_parser.get_format_instructions())"
   ]
  },
  {
   "cell_type": "code",
   "execution_count": 7,
   "id": "751406a9",
   "metadata": {},
   "outputs": [],
   "source": [
    "review_client = \"\"\"This leaf blower is pretty amazing. It has four settings:\n",
    "candle blow, gentle breeze, windy city, and tornado. It arrived in two days,\n",
    "just in time for my wife's birthday present. I think my wife liked it so much\n",
    "that she was speechless. So far, I've been the only one to use it, and I've\n",
    "been using it every other morning to clean the leaves off our lawn. It's a bit\n",
    "more expensive than other leaf blowers available on the market, but I think\n",
    "it's worth it for the extra features.\"\"\"\n"
   ]
  },
  {
   "cell_type": "code",
   "execution_count": 36,
   "id": "f2e179f9",
   "metadata": {},
   "outputs": [
    {
     "name": "stdout",
     "output_type": "stream",
     "text": [
      "[HumanMessage(content='\\nFor the following text, extract the following informations:\\ngift, delivery_time, value_perception\\n                                                   \\nText: This leaf blower is pretty amazing. It has four settings:\\ncandle blow, gentle breeze, windy city, and tornado. It arrived in two days,\\njust in time for my wife\\'s birthday present. I think my wife liked it so much\\nthat she was speechless. So far, I\\'ve been the only one to use it, and I\\'ve\\nbeen using it every other morning to clean the leaves off our lawn. It\\'s a bit\\nmore expensive than other leaf blowers available on the market, but I think\\nit\\'s worth it for the extra features.\\n                                                   \\n(The output must be only (and only) the json with the extracted informations, don\\'t return anything but it)\\nThe output should be a markdown code snippet formatted in the following schema, including the leading and trailing \"```json\" and \"```\":\\n\\n```json\\n{\\n\\t\"gift\": bool  // Was the item  bought by someone? true if yes, otherwise or if there is not this info false\\n\\t\"delivery_time\": int  // Time spent to deliver the gift. If the information is missing return -1\\n\\t\"value_perception\": list  // Extract a python list with any phrase about the product value or price\\n}\\n```\\n', additional_kwargs={}, response_metadata={})]\n"
     ]
    }
   ],
   "source": [
    "from langchain.prompts import ChatPromptTemplate\n",
    "\n",
    "review_template = ChatPromptTemplate.from_template(\"\"\"\n",
    "For the following text, extract the following informations:\n",
    "gift, delivery_time, value_perception\n",
    "                                                   \n",
    "Text: {review}\n",
    "                                                   \n",
    "(The output must be only (and only) the json with the extracted informations, don't return anything but it)\n",
    "{schema}\n",
    "\"\"\", partial_variables={'schema': output_parser.get_format_instructions()})\n",
    "\n",
    "\n",
    "print(review_template.format_messages(review = review_client))"
   ]
  },
  {
   "cell_type": "code",
   "execution_count": 37,
   "id": "7b59272f",
   "metadata": {},
   "outputs": [
    {
     "name": "stdout",
     "output_type": "stream",
     "text": [
      "```json\n",
      "{\n",
      "\t\"gift\": True,\n",
      "\t\"delivery_time\": 2,\n",
      "\t\"value_perception\": [\"it's worth it for the extra features\", \"bit more expensive than other leaf blowers available on the market\"]\n",
      "}\n",
      "```\n"
     ]
    }
   ],
   "source": [
    "from langchain_ollama import ChatOllama\n",
    "\n",
    "chat = ChatOllama(model=\"llama2\")\n",
    "answer = chat.invoke(review_template.format_messages(review = review_client))\n",
    "print(answer.content)"
   ]
  },
  {
   "cell_type": "code",
   "execution_count": 40,
   "id": "e3f5ceac",
   "metadata": {},
   "outputs": [
    {
     "name": "stdout",
     "output_type": "stream",
     "text": [
      "```json\n",
      "{\n",
      "\t\"gift\": True,\n",
      "\t\"delivery_time\": 2,\n",
      "\t\"value_perception\": [\"it's worth it for the extra features\", \"bit more expensive than other leaf blowers available on the market\"]\n",
      "}\n",
      "```\n"
     ]
    }
   ],
   "source": [
    "print(answer.content)\n"
   ]
  },
  {
   "cell_type": "code",
   "execution_count": null,
   "id": "9eb40a70",
   "metadata": {},
   "outputs": [],
   "source": [
    "output_parser.parse(answer.content)"
   ]
  },
  {
   "cell_type": "markdown",
   "id": "c3e4c226",
   "metadata": {},
   "source": [
    "### Pydantic"
   ]
  },
  {
   "cell_type": "code",
   "execution_count": 38,
   "id": "df00044d",
   "metadata": {},
   "outputs": [],
   "source": [
    "review_cliente = \"\"\"Este soprador de folhas é bastante incrível. Ele tem \n",
    "quatro configurações: sopro de vela, brisa suave, cidade ventosa \n",
    "e tornado. Chegou em dois dias, bem a tempo para o presente de \n",
    "aniversário da minha esposa. Acho que minha esposa gostou tanto \n",
    "que ficou sem palavras. Até agora, fui o único a usá-lo, e tenho \n",
    "usado em todas as manhãs alternadas para limpar as folhas do \n",
    "nosso gramado. É um pouco mais caro do que os outros sopradores \n",
    "de folhas disponíveis no mercado, mas acho que vale a pena pelas \n",
    "características extras.\"\"\""
   ]
  },
  {
   "cell_type": "code",
   "execution_count": 39,
   "id": "ff42be81",
   "metadata": {},
   "outputs": [
    {
     "data": {
      "text/plain": [
       "AvaliacaoReview(presente=True, dias_entrega=2, percepcao_valor=['basta', 'valor_justificado'])"
      ]
     },
     "execution_count": 39,
     "metadata": {},
     "output_type": "execute_result"
    }
   ],
   "source": [
    "from pydantic import BaseModel, Field\n",
    "\n",
    "class AvaliacaoReview(BaseModel):\n",
    "    \"\"\"Avalia review do cliente\"\"\"\n",
    "    presente: bool = Field(description='Verdadeiro se foi para presente e False se não foi')\n",
    "    dias_entrega: int = Field(description='Quantos dias para entrega do produto')\n",
    "    percepcao_valor: list[str] = Field(description='Extraia qualquer frase sobre o valor ou \\\n",
    "    preço do produto. Retorne uma lista.')\n",
    "\n",
    "llm_estruturada = chat.with_structured_output(AvaliacaoReview)\n",
    "resposta = llm_estruturada.invoke(review_cliente)\n",
    "resposta"
   ]
  }
 ],
 "metadata": {
  "kernelspec": {
   "display_name": "Python 3",
   "language": "python",
   "name": "python3"
  },
  "language_info": {
   "codemirror_mode": {
    "name": "ipython",
    "version": 3
   },
   "file_extension": ".py",
   "mimetype": "text/x-python",
   "name": "python",
   "nbconvert_exporter": "python",
   "pygments_lexer": "ipython3",
   "version": "3.12.3"
  }
 },
 "nbformat": 4,
 "nbformat_minor": 5
}
