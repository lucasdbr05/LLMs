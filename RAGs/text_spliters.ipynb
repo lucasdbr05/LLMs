{
 "cells": [
  {
   "cell_type": "markdown",
   "id": "3bc55278",
   "metadata": {},
   "source": [
    "# Text Splitters"
   ]
  },
  {
   "cell_type": "code",
   "execution_count": 1,
   "id": "88765d72",
   "metadata": {},
   "outputs": [],
   "source": [
    "texto = '''\n",
    "Já conhece a lista em Python? Quer entender como manipular listas e quais são suas principais utilidades e métodos? Sabe qual a diferença entre listas e tuplas? Este artigo responde responde isso e muito mais! Aproveite ao máximo todo o potencial dessa estrutura de dados essencial para a programação em Python.\n",
    "\n",
    "A lista em Python é uma das estruturas de dados fundamentais da linguagem Python. Além de possuir grande versatilidade, as listas são extremamente relevantes para iniciantes na programação, por incorporar uma variedade de conceitos básicos de Python como mutabilidade, indexação, iteração e slicing. Mas você já conhece as listas de Python a fundo?\n",
    "\n",
    "Neste artigo, vamos nos aprofundar nas listas em Python e aprender a utilizá-las em seus códigos. Ao longo do texto, você aprenderá como criar e manipular uma lista em Python, quais os principais métodos de listas, e como elas se relacionam e com outros tipos de dados de Python, como strings, tuplas e vetores. Vamos lá!\n",
    "\n",
    "'''"
   ]
  },
  {
   "cell_type": "markdown",
   "id": "9ddac212",
   "metadata": {},
   "source": [
    "## Character Text Splitter"
   ]
  },
  {
   "cell_type": "code",
   "execution_count": 3,
   "id": "65c88157",
   "metadata": {},
   "outputs": [
    {
     "name": "stdout",
     "output_type": "stream",
     "text": [
      "abcdefghijklmnopqrstuvwxyzabcdefghijklmnopqrstuvwxyzabcdefghijklmnopqrstuvwxyzabcdefghijklmnopqrstuvwxyzabcdefghijklmnopqrstuvwxyz\n",
      "130\n"
     ]
    }
   ],
   "source": [
    "from langchain_text_splitters import CharacterTextSplitter\n",
    "import string\n",
    "\n",
    "chunk_size = 50\n",
    "chunk_overlap = 0\n",
    "\n",
    "char_split = CharacterTextSplitter(\n",
    "    chunk_size=chunk_size,\n",
    "    chunk_overlap=chunk_overlap\n",
    ")\n",
    "\n",
    "texto = ''.join(f'{string.ascii_lowercase}' for _ in range(5))\n",
    "print(texto)\n",
    "print(len(texto))"
   ]
  },
  {
   "cell_type": "code",
   "execution_count": 5,
   "id": "b53152a5",
   "metadata": {},
   "outputs": [
    {
     "data": {
      "text/plain": [
       "['abcdefghijklmnopqrstuvwxyzabcdefghijklmnopqrstuvwxyzabcdefghijklmnopqrstuvwxyzabcdefghijklmnopqrstuvwxyzabcdefghijklmnopqrstuvwxyz']"
      ]
     },
     "execution_count": 5,
     "metadata": {},
     "output_type": "execute_result"
    }
   ],
   "source": [
    "splits = char_split.split_text(texto)\n",
    "splits"
   ]
  },
  {
   "cell_type": "code",
   "execution_count": 6,
   "id": "49a8a01a",
   "metadata": {},
   "outputs": [
    {
     "data": {
      "text/plain": [
       "['abcdefghijklmnopqrstuvwxyzabcdefghijklmnopqrstuvwx',\n",
       " 'yzabcdefghijklmnopqrstuvwxyzabcdefghijklmnopqrstuv',\n",
       " 'wxyzabcdefghijklmnopqrstuvwxyz']"
      ]
     },
     "execution_count": 6,
     "metadata": {},
     "output_type": "execute_result"
    }
   ],
   "source": [
    "char_split = CharacterTextSplitter(\n",
    "    chunk_size=chunk_size,\n",
    "    chunk_overlap=chunk_overlap,\n",
    "    separator=''\n",
    ")\n",
    "\n",
    "splits = char_split.split_text(texto)\n",
    "splits"
   ]
  },
  {
   "cell_type": "code",
   "execution_count": 7,
   "id": "48aee333",
   "metadata": {},
   "outputs": [
    {
     "data": {
      "text/plain": [
       "['abcdefghijklmnopqrstuvwxyzabcdefghijklmnopqrstuvwx',\n",
       " 'yzabcdefghijklmnopqrstuvwxyzabcdefghijklmnopqrstuv',\n",
       " 'wxyzabcdefghijklmnopqrstuvwxyz']"
      ]
     },
     "execution_count": 7,
     "metadata": {},
     "output_type": "execute_result"
    }
   ],
   "source": [
    "char_split = CharacterTextSplitter(\n",
    "    chunk_size=chunk_size,\n",
    "    chunk_overlap=chunk_overlap,\n",
    "    separator=''\n",
    ")\n",
    "splits = char_split.split_text(texto)\n",
    "splits\n"
   ]
  },
  {
   "cell_type": "code",
   "execution_count": 10,
   "id": "5fa366c3",
   "metadata": {},
   "outputs": [
    {
     "name": "stderr",
     "output_type": "stream",
     "text": [
      "Created a chunk of size 311, which is longer than the specified 50\n",
      "Created a chunk of size 82, which is longer than the specified 50\n",
      "Created a chunk of size 217, which is longer than the specified 50\n",
      "Created a chunk of size 147, which is longer than the specified 50\n",
      "Created a chunk of size 213, which is longer than the specified 50\n"
     ]
    },
    {
     "data": {
      "text/plain": [
       "['Já conhece a lista em Python? Quer entender como manipular listas e quais são suas principais utilidades e métodos? Sabe qual a diferença entre listas e tuplas? Este artigo responde responde isso e muito mais! Aproveite ao máximo todo o potencial dessa estrutura de dados essencial para a programação em Python',\n",
       " 'A lista em Python é uma das estruturas de dados fundamentais da linguagem Python',\n",
       " 'Além de possuir grande versatilidade, as listas são extremamente relevantes para iniciantes na programação, por incorporar uma variedade de conceitos básicos de Python como mutabilidade, indexação, iteração e slicing',\n",
       " 'Mas você já conhece as listas de Python a fundo?\\n\\nNeste artigo, vamos nos aprofundar nas listas em Python e aprender a utilizá-las em seus códigos',\n",
       " 'Ao longo do texto, você aprenderá como criar e manipular uma lista em Python, quais os principais métodos de listas, e como elas se relacionam e com outros tipos de dados de Python, como strings, tuplas e vetores',\n",
       " 'Vamos lá!']"
      ]
     },
     "execution_count": 10,
     "metadata": {},
     "output_type": "execute_result"
    }
   ],
   "source": [
    "chunk_size = 50\n",
    "chunk_overlap = 10\n",
    "\n",
    "char_split = CharacterTextSplitter(\n",
    "    chunk_size=chunk_size,\n",
    "    chunk_overlap=chunk_overlap,\n",
    "    separator='.'\n",
    ")\n",
    "\n",
    "splits = char_split.split_text(texto)\n",
    "splits"
   ]
  },
  {
   "cell_type": "markdown",
   "id": "c4d7b806",
   "metadata": {},
   "source": [
    "## Recursive Character Text Splitter"
   ]
  },
  {
   "cell_type": "code",
   "execution_count": 12,
   "id": "c6180b1d",
   "metadata": {},
   "outputs": [
    {
     "data": {
      "text/plain": [
       "['Já conhece a lista em Python',\n",
       " '? Quer entender como manipular listas e quais são',\n",
       " 'quais são suas principais utilidades e métodos',\n",
       " '? Sabe qual a diferença entre listas e tuplas',\n",
       " '? Este artigo responde responde isso e muito mais!',\n",
       " 'mais! Aproveite ao máximo todo o potencial dessa',\n",
       " 'dessa estrutura de dados essencial para a',\n",
       " 'para a programação em Python',\n",
       " '.',\n",
       " 'A lista em Python é uma das estruturas de dados',\n",
       " 'de dados fundamentais da linguagem Python',\n",
       " '. Além de possuir grande versatilidade, as listas',\n",
       " 'as listas são extremamente relevantes para',\n",
       " 'para iniciantes na programação, por incorporar',\n",
       " 'uma variedade de conceitos básicos de Python como',\n",
       " 'como mutabilidade, indexação, iteração e slicing',\n",
       " '. Mas você já conhece as listas de Python a fundo?',\n",
       " 'Neste artigo, vamos nos aprofundar nas listas em',\n",
       " 'listas em Python e aprender a utilizá-las em seus',\n",
       " 'em seus códigos',\n",
       " '. Ao longo do texto, você aprenderá como criar e',\n",
       " 'criar e manipular uma lista em Python, quais os',\n",
       " 'quais os principais métodos de listas, e como',\n",
       " 'e como elas se relacionam e com outros tipos de',\n",
       " 'tipos de dados de Python, como strings, tuplas e',\n",
       " 'tuplas e vetores',\n",
       " '. Vamos lá!']"
      ]
     },
     "execution_count": 12,
     "metadata": {},
     "output_type": "execute_result"
    }
   ],
   "source": [
    "from langchain_text_splitters import RecursiveCharacterTextSplitter\n",
    "\n",
    "\n",
    "\n",
    "chunk_size = 50\n",
    "chunk_overlap = 10\n",
    "\n",
    "\n",
    "char_split = RecursiveCharacterTextSplitter(\n",
    "    chunk_size=chunk_size,\n",
    "    chunk_overlap=chunk_overlap,\n",
    "    separators=['\\n\\n', '\\n', '.', '?', ' ', '']\n",
    ")\n",
    "char_split.split_text(texto)"
   ]
  },
  {
   "cell_type": "code",
   "execution_count": 13,
   "id": "44a2126d",
   "metadata": {},
   "outputs": [
    {
     "data": {
      "text/plain": [
       "['Já conhece a lista em Python? Quer entender como manipular listas e quais são suas principais utilidades e métodos? Sabe qual a diferença entre listas e tuplas? Este artigo responde responde isso e muito mais! Aproveite ao máximo todo o potencial',\n",
       " 'máximo todo o potencial dessa estrutura de dados essencial para a programação em Python.',\n",
       " 'A lista em Python é uma das estruturas de dados fundamentais da linguagem Python. Além de possuir grande versatilidade, as listas são extremamente relevantes para iniciantes na programação, por incorporar uma variedade de conceitos básicos de Python',\n",
       " 'básicos de Python como mutabilidade, indexação, iteração e slicing. Mas você já conhece as listas de Python a fundo?',\n",
       " 'Neste artigo, vamos nos aprofundar nas listas em Python e aprender a utilizá-las em seus códigos. Ao longo do texto, você aprenderá como criar e manipular uma lista em Python, quais os principais métodos de listas, e como elas se relacionam e com',\n",
       " 'elas se relacionam e com outros tipos de dados de Python, como strings, tuplas e vetores. Vamos lá!']"
      ]
     },
     "execution_count": 13,
     "metadata": {},
     "output_type": "execute_result"
    }
   ],
   "source": [
    "chunk_size = 250\n",
    "chunk_overlap = 25\n",
    "\n",
    "\n",
    "char_split = RecursiveCharacterTextSplitter(\n",
    "    chunk_size=chunk_size,\n",
    "    chunk_overlap=chunk_overlap,\n",
    "    separators=['\\n\\n', '\\n', ' ', '']\n",
    ")\n",
    "char_split.split_text(texto)"
   ]
  },
  {
   "cell_type": "markdown",
   "id": "cc6d3492",
   "metadata": {},
   "source": [
    "## Token Text Splitter"
   ]
  },
  {
   "cell_type": "code",
   "execution_count": 17,
   "id": "e91ecfa8",
   "metadata": {},
   "outputs": [
    {
     "data": {
      "text/plain": [
       "['abcdefghijklmnopqrstuvwxyzabcdefghijklmnopqrstuvwxyzabcdefghijklmnopqrstuvwxyzabcdefghijklmnopq',\n",
       " 'ijklmnopqrstuvwxyzabcdefghijklmnopqrstuvwxyz']"
      ]
     },
     "execution_count": 17,
     "metadata": {},
     "output_type": "execute_result"
    }
   ],
   "source": [
    "from langchain_text_splitters import TokenTextSplitter\n",
    "\n",
    "chunk_size = 50\n",
    "chunk_overlap = 5\n",
    "\n",
    "texto = ''.join(f'{string.ascii_lowercase}' for _ in range(5))\n",
    "\n",
    "token_split = TokenTextSplitter(\n",
    "    chunk_size=chunk_size,\n",
    "    chunk_overlap=chunk_overlap\n",
    ")\n",
    "token_split.split_text(texto)"
   ]
  },
  {
   "cell_type": "markdown",
   "id": "71f33bc9",
   "metadata": {},
   "source": [
    "## Markdown"
   ]
  },
  {
   "cell_type": "code",
   "execution_count": 18,
   "id": "e83f119d",
   "metadata": {},
   "outputs": [],
   "source": [
    "markdown_example = '''# Título do Markdown de exemplo\n",
    "## Capítulo 1\n",
    "Texto capítulo 1 e mais e mais texto.\n",
    "Continuamos no capítulo 1!\n",
    "## Capítulo 2\n",
    "Texto capítulo 2 e mais e mais texto.\n",
    "Continuamos no capítulo 2!\n",
    "## Capítulo 3\n",
    "### Seção 3.1\n",
    "Texto capítulo 3 e mais e mais texto.\n",
    "Continuamos no capítulo 3!\n",
    "'''\n"
   ]
  },
  {
   "cell_type": "code",
   "execution_count": 19,
   "id": "d56c1147",
   "metadata": {},
   "outputs": [],
   "source": [
    "from langchain_text_splitters import MarkdownHeaderTextSplitter\n",
    "\n",
    "header_to_split_on = [\n",
    "    ('#', 'Header 1'),\n",
    "    ('##', 'Header 2'),\n",
    "    ('###', 'Header 3')\n",
    "]\n",
    "\n",
    "md_split = MarkdownHeaderTextSplitter(\n",
    "    headers_to_split_on=header_to_split_on\n",
    ")\n"
   ]
  },
  {
   "cell_type": "code",
   "execution_count": 20,
   "id": "61839239",
   "metadata": {},
   "outputs": [
    {
     "data": {
      "text/plain": [
       "[Document(metadata={'Header 1': 'Título do Markdown de exemplo', 'Header 2': 'Capítulo 1'}, page_content='Texto capítulo 1 e mais e mais texto.\\nContinuamos no capítulo 1!'),\n",
       " Document(metadata={'Header 1': 'Título do Markdown de exemplo', 'Header 2': 'Capítulo 2'}, page_content='Texto capítulo 2 e mais e mais texto.\\nContinuamos no capítulo 2!'),\n",
       " Document(metadata={'Header 1': 'Título do Markdown de exemplo', 'Header 2': 'Capítulo 3', 'Header 3': 'Seção 3.1'}, page_content='Texto capítulo 3 e mais e mais texto.\\nContinuamos no capítulo 3!')]"
      ]
     },
     "execution_count": 20,
     "metadata": {},
     "output_type": "execute_result"
    }
   ],
   "source": [
    "md_split.split_text(markdown_example)"
   ]
  },
  {
   "cell_type": "markdown",
   "id": "a945e682",
   "metadata": {},
   "source": [
    "## Split Documents"
   ]
  },
  {
   "cell_type": "code",
   "execution_count": null,
   "id": "803513c6",
   "metadata": {},
   "outputs": [
    {
     "data": {
      "text/plain": [
       "[Document(metadata={'producer': 'iText 2.1.7 by 1T3XT', 'creator': 'JasperReports (declaracao_vinculo_graduacao)', 'creationdate': '2025-06-02T12:54:51-03:00', 'moddate': '2025-06-02T12:54:51-03:00', 'source': 'samples/sample_pdf.pdf', 'total_pages': 1, 'page': 0, 'page_label': '1'}, page_content='D E C L A R A Ç Ã O'),\n",
       " Document(metadata={'producer': 'iText 2.1.7 by 1T3XT', 'creator': 'JasperReports (declaracao_vinculo_graduacao)', 'creationdate': '2025-06-02T12:54:51-03:00', 'moddate': '2025-06-02T12:54:51-03:00', 'source': 'samples/sample_pdf.pdf', 'total_pages': 1, 'page': 0, 'page_label': '1'}, page_content='Declaramos, para os fins a que se'),\n",
       " Document(metadata={'producer': 'iText 2.1.7 by 1T3XT', 'creator': 'JasperReports (declaracao_vinculo_graduacao)', 'creationdate': '2025-06-02T12:54:51-03:00', 'moddate': '2025-06-02T12:54:51-03:00', 'source': 'samples/sample_pdf.pdf', 'total_pages': 1, 'page': 0, 'page_label': '1'}, page_content='a que se fizerem necessários, que LUCAS'),\n",
       " Document(metadata={'producer': 'iText 2.1.7 by 1T3XT', 'creator': 'JasperReports (declaracao_vinculo_graduacao)', 'creationdate': '2025-06-02T12:54:51-03:00', 'moddate': '2025-06-02T12:54:51-03:00', 'source': 'samples/sample_pdf.pdf', 'total_pages': 1, 'page': 0, 'page_label': '1'}, page_content='GABRIEL DE OLIVEIRA LIMA é aluno(a) vinculado(a)'),\n",
       " Document(metadata={'producer': 'iText 2.1.7 by 1T3XT', 'creator': 'JasperReports (declaracao_vinculo_graduacao)', 'creationdate': '2025-06-02T12:54:51-03:00', 'moddate': '2025-06-02T12:54:51-03:00', 'source': 'samples/sample_pdf.pdf', 'total_pages': 1, 'page': 0, 'page_label': '1'}, page_content='a esta universidade, sob o'),\n",
       " Document(metadata={'producer': 'iText 2.1.7 by 1T3XT', 'creator': 'JasperReports (declaracao_vinculo_graduacao)', 'creationdate': '2025-06-02T12:54:51-03:00', 'moddate': '2025-06-02T12:54:51-03:00', 'source': 'samples/sample_pdf.pdf', 'total_pages': 1, 'page': 0, 'page_label': '1'}, page_content='número 231003406, no curso de CIÊNCIA DA'),\n",
       " Document(metadata={'producer': 'iText 2.1.7 by 1T3XT', 'creator': 'JasperReports (declaracao_vinculo_graduacao)', 'creationdate': '2025-06-02T12:54:51-03:00', 'moddate': '2025-06-02T12:54:51-03:00', 'source': 'samples/sample_pdf.pdf', 'total_pages': 1, 'page': 0, 'page_label': '1'}, page_content='DA COMPUTAÇÃO/CIC -'),\n",
       " Document(metadata={'producer': 'iText 2.1.7 by 1T3XT', 'creator': 'JasperReports (declaracao_vinculo_graduacao)', 'creationdate': '2025-06-02T12:54:51-03:00', 'moddate': '2025-06-02T12:54:51-03:00', 'source': 'samples/sample_pdf.pdf', 'total_pages': 1, 'page': 0, 'page_label': '1'}, page_content='BACHARELADO - DIURNO.'),\n",
       " Document(metadata={'producer': 'iText 2.1.7 by 1T3XT', 'creator': 'JasperReports (declaracao_vinculo_graduacao)', 'creationdate': '2025-06-02T12:54:51-03:00', 'moddate': '2025-06-02T12:54:51-03:00', 'source': 'samples/sample_pdf.pdf', 'total_pages': 1, 'page': 0, 'page_label': '1'}, page_content='Brasília, 02 de Junho de 2025.'),\n",
       " Document(metadata={'producer': 'iText 2.1.7 by 1T3XT', 'creator': 'JasperReports (declaracao_vinculo_graduacao)', 'creationdate': '2025-06-02T12:54:51-03:00', 'moddate': '2025-06-02T12:54:51-03:00', 'source': 'samples/sample_pdf.pdf', 'total_pages': 1, 'page': 0, 'page_label': '1'}, page_content='Código de verificação:\\n 17588dd20d'),\n",
       " Document(metadata={'producer': 'iText 2.1.7 by 1T3XT', 'creator': 'JasperReports (declaracao_vinculo_graduacao)', 'creationdate': '2025-06-02T12:54:51-03:00', 'moddate': '2025-06-02T12:54:51-03:00', 'source': 'samples/sample_pdf.pdf', 'total_pages': 1, 'page': 0, 'page_label': '1'}, page_content='Para verificar a autenticidade deste documento'),\n",
       " Document(metadata={'producer': 'iText 2.1.7 by 1T3XT', 'creator': 'JasperReports (declaracao_vinculo_graduacao)', 'creationdate': '2025-06-02T12:54:51-03:00', 'moddate': '2025-06-02T12:54:51-03:00', 'source': 'samples/sample_pdf.pdf', 'total_pages': 1, 'page': 0, 'page_label': '1'}, page_content='documento acesse'),\n",
       " Document(metadata={'producer': 'iText 2.1.7 by 1T3XT', 'creator': 'JasperReports (declaracao_vinculo_graduacao)', 'creationdate': '2025-06-02T12:54:51-03:00', 'moddate': '2025-06-02T12:54:51-03:00', 'source': 'samples/sample_pdf.pdf', 'total_pages': 1, 'page': 0, 'page_label': '1'}, page_content='acesse https://sig.unb.br/sigaa/documentos/,'),\n",
       " Document(metadata={'producer': 'iText 2.1.7 by 1T3XT', 'creator': 'JasperReports (declaracao_vinculo_graduacao)', 'creationdate': '2025-06-02T12:54:51-03:00', 'moddate': '2025-06-02T12:54:51-03:00', 'source': 'samples/sample_pdf.pdf', 'total_pages': 1, 'page': 0, 'page_label': '1'}, page_content='informando a matrícula, data de emissão do'),\n",
       " Document(metadata={'producer': 'iText 2.1.7 by 1T3XT', 'creator': 'JasperReports (declaracao_vinculo_graduacao)', 'creationdate': '2025-06-02T12:54:51-03:00', 'moddate': '2025-06-02T12:54:51-03:00', 'source': 'samples/sample_pdf.pdf', 'total_pages': 1, 'page': 0, 'page_label': '1'}, page_content='do documento e o código de verificação.'),\n",
       " Document(metadata={'producer': 'iText 2.1.7 by 1T3XT', 'creator': 'JasperReports (declaracao_vinculo_graduacao)', 'creationdate': '2025-06-02T12:54:51-03:00', 'moddate': '2025-06-02T12:54:51-03:00', 'source': 'samples/sample_pdf.pdf', 'total_pages': 1, 'page': 0, 'page_label': '1'}, page_content='UNIVERSIDADE DE BRASÍLIA'),\n",
       " Document(metadata={'producer': 'iText 2.1.7 by 1T3XT', 'creator': 'JasperReports (declaracao_vinculo_graduacao)', 'creationdate': '2025-06-02T12:54:51-03:00', 'moddate': '2025-06-02T12:54:51-03:00', 'source': 'samples/sample_pdf.pdf', 'total_pages': 1, 'page': 0, 'page_label': '1'}, page_content='SAA - SECRETARIA DE ADMINISTRAÇÃO ACADÊMICA'),\n",
       " Document(metadata={'producer': 'iText 2.1.7 by 1T3XT', 'creator': 'JasperReports (declaracao_vinculo_graduacao)', 'creationdate': '2025-06-02T12:54:51-03:00', 'moddate': '2025-06-02T12:54:51-03:00', 'source': 'samples/sample_pdf.pdf', 'total_pages': 1, 'page': 0, 'page_label': '1'}, page_content='CNPJ: 00.038.174/0001-43'),\n",
       " Document(metadata={'producer': 'iText 2.1.7 by 1T3XT', 'creator': 'JasperReports (declaracao_vinculo_graduacao)', 'creationdate': '2025-06-02T12:54:51-03:00', 'moddate': '2025-06-02T12:54:51-03:00', 'source': 'samples/sample_pdf.pdf', 'total_pages': 1, 'page': 0, 'page_label': '1'}, page_content='Campus Darcy Ribeiro -Centro de Vivência, Térreo-'),\n",
       " Document(metadata={'producer': 'iText 2.1.7 by 1T3XT', 'creator': 'JasperReports (declaracao_vinculo_graduacao)', 'creationdate': '2025-06-02T12:54:51-03:00', 'moddate': '2025-06-02T12:54:51-03:00', 'source': 'samples/sample_pdf.pdf', 'total_pages': 1, 'page': 0, 'page_label': '1'}, page_content='Térreo- Asa Norte - CEP 70910-900'),\n",
       " Document(metadata={'producer': 'iText 2.1.7 by 1T3XT', 'creator': 'JasperReports (declaracao_vinculo_graduacao)', 'creationdate': '2025-06-02T12:54:51-03:00', 'moddate': '2025-06-02T12:54:51-03:00', 'source': 'samples/sample_pdf.pdf', 'total_pages': 1, 'page': 0, 'page_label': '1'}, page_content='Tel.: (61) 3107-6417 / E-mail: deg@unb.br')]"
      ]
     },
     "execution_count": 22,
     "metadata": {},
     "output_type": "execute_result"
    }
   ],
   "source": [
    "from langchain_community.document_loaders.pdf import PyPDFLoader\n",
    "from langchain_text_splitters import RecursiveCharacterTextSplitter\n",
    "\n",
    "chunk_size = 50\n",
    "chunk_overlap = 10\n",
    "\n",
    "char_split = RecursiveCharacterTextSplitter(\n",
    "    chunk_size=chunk_size,\n",
    "    chunk_overlap=chunk_overlap,\n",
    ")\n",
    "\n",
    "caminho = 'samples/sample_pdf.pdf'\n",
    "loader = PyPDFLoader(caminho)\n",
    "docs = loader.load()\n",
    "char_split.split_documents(docs)"
   ]
  }
 ],
 "metadata": {
  "kernelspec": {
   "display_name": "Python 3",
   "language": "python",
   "name": "python3"
  },
  "language_info": {
   "codemirror_mode": {
    "name": "ipython",
    "version": 3
   },
   "file_extension": ".py",
   "mimetype": "text/x-python",
   "name": "python",
   "nbconvert_exporter": "python",
   "pygments_lexer": "ipython3",
   "version": "3.12.3"
  }
 },
 "nbformat": 4,
 "nbformat_minor": 5
}
