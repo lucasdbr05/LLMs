{
 "cells": [
  {
   "cell_type": "markdown",
   "id": "0cd611b0",
   "metadata": {},
   "source": [
    "# Document Loaders"
   ]
  },
  {
   "cell_type": "code",
   "execution_count": 2,
   "id": "75604b59",
   "metadata": {},
   "outputs": [],
   "source": [
    "from langchain_community.document_loaders.pdf import PyPDFLoader"
   ]
  },
  {
   "cell_type": "code",
   "execution_count": 3,
   "id": "40b03a5a",
   "metadata": {},
   "outputs": [],
   "source": [
    "path = \"samples/sample_pdf.pdf\"\n",
    "\n",
    "loader = PyPDFLoader(path)\n",
    "download = loader.load()"
   ]
  },
  {
   "cell_type": "code",
   "execution_count": 4,
   "id": "3e4c4387",
   "metadata": {},
   "outputs": [
    {
     "data": {
      "text/plain": [
       "1"
      ]
     },
     "execution_count": 4,
     "metadata": {},
     "output_type": "execute_result"
    }
   ],
   "source": [
    "len(download)"
   ]
  },
  {
   "cell_type": "code",
   "execution_count": 5,
   "id": "4d673c03",
   "metadata": {},
   "outputs": [
    {
     "data": {
      "text/plain": [
       "'D E C L A R A Ç Ã O\\n             Declaramos, para os fins a que se fizerem necessários, que LUCAS\\nGABRIEL DE OLIVEIRA LIMA é aluno(a) vinculado(a) a esta universidade, sob o\\nnúmero 231003406, no curso de CIÊNCIA DA COMPUTAÇÃO/CIC -\\nBACHARELADO - DIURNO.\\n             Brasília, 02 de Junho de 2025.\\nCódigo de verificação:\\n 17588dd20d\\nPara verificar a autenticidade deste documento acesse https://sig.unb.br/sigaa/documentos/,\\ninformando a matrícula, data de emissão do documento e o código de verificação.\\nUNIVERSIDADE DE BRASÍLIA\\nSAA - SECRETARIA DE ADMINISTRAÇÃO ACADÊMICA\\n CNPJ: 00.038.174/0001-43\\nCampus Darcy Ribeiro -Centro de Vivência, Térreo- Asa Norte - CEP 70910-900\\nTel.: (61) 3107-6417 / E-mail: deg@unb.br'"
      ]
     },
     "execution_count": 5,
     "metadata": {},
     "output_type": "execute_result"
    }
   ],
   "source": [
    "download[0].page_content"
   ]
  },
  {
   "cell_type": "markdown",
   "id": "eb753c39",
   "metadata": {},
   "source": [
    "## Trabalhando com documentos"
   ]
  },
  {
   "cell_type": "code",
   "execution_count": 6,
   "id": "3751110e",
   "metadata": {},
   "outputs": [
    {
     "name": "stderr",
     "output_type": "stream",
     "text": [
      "C:\\Users\\Notebook\\AppData\\Local\\Temp\\ipykernel_17276\\2431884468.py:6: LangChainDeprecationWarning: This class is deprecated. See the following migration guides for replacements based on `chain_type`:\n",
      "stuff: https://python.langchain.com/docs/versions/migrating_chains/stuff_docs_chain\n",
      "map_reduce: https://python.langchain.com/docs/versions/migrating_chains/map_reduce_chain\n",
      "refine: https://python.langchain.com/docs/versions/migrating_chains/refine_chain\n",
      "map_rerank: https://python.langchain.com/docs/versions/migrating_chains/map_rerank_docs_chain\n",
      "\n",
      "See also guides on retrieval and question-answering here: https://python.langchain.com/docs/how_to/#qa-with-rag\n",
      "  chain = load_qa_chain(llm=chat, chain_type='stuff', verbose=True)\n"
     ]
    }
   ],
   "source": [
    "from langchain.chains.question_answering import load_qa_chain\n",
    "from langchain_ollama.chat_models import ChatOllama\n",
    "\n",
    "chat = ChatOllama(model='llama2')\n",
    "\n",
    "chain = load_qa_chain(llm=chat, chain_type='stuff', verbose=True)"
   ]
  },
  {
   "cell_type": "code",
   "execution_count": 9,
   "id": "c8a0f1bc",
   "metadata": {},
   "outputs": [
    {
     "name": "stderr",
     "output_type": "stream",
     "text": [
      "C:\\Users\\Notebook\\AppData\\Local\\Temp\\ipykernel_17276\\860351642.py:3: LangChainDeprecationWarning: The method `Chain.run` was deprecated in langchain 0.1.0 and will be removed in 1.0. Use :meth:`~invoke` instead.\n",
      "  chain.run(input_documents=download, question=pergunta)\n"
     ]
    },
    {
     "name": "stdout",
     "output_type": "stream",
     "text": [
      "\n",
      "\n",
      "\u001b[1m> Entering new StuffDocumentsChain chain...\u001b[0m\n",
      "\n",
      "\n",
      "\u001b[1m> Entering new LLMChain chain...\u001b[0m\n",
      "Prompt after formatting:\n",
      "\u001b[32;1m\u001b[1;3mSystem: Use the following pieces of context to answer the user's question. \n",
      "If you don't know the answer, just say that you don't know, don't try to make up an answer.\n",
      "----------------\n",
      "D E C L A R A Ç Ã O\n",
      "             Declaramos, para os fins a que se fizerem necessários, que LUCAS\n",
      "GABRIEL DE OLIVEIRA LIMA é aluno(a) vinculado(a) a esta universidade, sob o\n",
      "número 231003406, no curso de CIÊNCIA DA COMPUTAÇÃO/CIC -\n",
      "BACHARELADO - DIURNO.\n",
      "             Brasília, 02 de Junho de 2025.\n",
      "Código de verificação:\n",
      " 17588dd20d\n",
      "Para verificar a autenticidade deste documento acesse https://sig.unb.br/sigaa/documentos/,\n",
      "informando a matrícula, data de emissão do documento e o código de verificação.\n",
      "UNIVERSIDADE DE BRASÍLIA\n",
      "SAA - SECRETARIA DE ADMINISTRAÇÃO ACADÊMICA\n",
      " CNPJ: 00.038.174/0001-43\n",
      "Campus Darcy Ribeiro -Centro de Vivência, Térreo- Asa Norte - CEP 70910-900\n",
      "Tel.: (61) 3107-6417 / E-mail: deg@unb.br\n",
      "Human: Quais assuntos são tratados no documento?\u001b[0m\n",
      "\n",
      "\u001b[1m> Finished chain.\u001b[0m\n",
      "\n",
      "\u001b[1m> Finished chain.\u001b[0m\n"
     ]
    },
    {
     "data": {
      "text/plain": [
       "\"Based on the provided context, the following are the main subjects treated in the document:\\n\\n1. Identity of the student: The document declares that Lucas Gabriel de Oliveira Lima is a student attached to the University of Brasilia, with student number 231003406, enrolled in the Computer Science/Bachelor's degree program.\\n2. Date and place of issuance: The document specifies the date (June 2, 2025) and location (Brasília) where it was issued.\\n3. Verification code: The document includes a verification code (17588dd20d) that can be used to verify its authenticity through the university's website.\\n4. University information: The document provides the name of the university (Universidade de Brasilia), its SAA (Secretaria de Administração Acadêmica) department, and its CNPJ (Company Taxpayer Registration Number).\\n5. Campus location: The document specifies the campus location (Darcy Ribeiro - Centro de Vivencia) and its CEP (Postal Code) address.\""
      ]
     },
     "execution_count": 9,
     "metadata": {},
     "output_type": "execute_result"
    }
   ],
   "source": [
    "pergunta = 'Quais assuntos são tratados no documento?'\n",
    "\n",
    "chain.run(input_documents=download, question=pergunta)"
   ]
  },
  {
   "cell_type": "markdown",
   "id": "03a00567",
   "metadata": {},
   "source": [
    "### Download da internet"
   ]
  },
  {
   "cell_type": "code",
   "execution_count": 10,
   "id": "dd7785f0",
   "metadata": {},
   "outputs": [],
   "source": [
    "from langchain_community.document_loaders.web_base import WebBaseLoader\n",
    "\n",
    "url = 'https://hub.asimov.academy/blog/listas-em-python/'\n",
    "loader = WebBaseLoader(url)\n",
    "documentos = loader.load()"
   ]
  },
  {
   "cell_type": "code",
   "execution_count": 11,
   "id": "02aad13c",
   "metadata": {},
   "outputs": [
    {
     "data": {
      "text/plain": [
       "'\\n\\n\\n\\n\\n\\n\\n\\n\\n\\n\\n\\n\\n\\n\\n\\nLista em Python: o que são e como funcionam | Asimov Academy\\n\\n\\n\\n\\n\\n\\n\\n\\n\\n\\n\\n\\n\\n\\n\\n\\n\\n\\n\\n\\n\\n\\n\\n\\n\\n\\n\\n\\n\\n\\n\\n\\n\\n\\n\\n\\n\\n\\n\\n\\n\\n\\n\\n\\n\\n\\n\\n\\n\\n\\n\\n\\n\\n\\n\\n\\n\\n\\n\\n\\n\\n\\n\\n\\n\\n\\n\\n\\n\\n\\n\\n\\n\\n\\n\\n\\n\\n\\n\\n\\n\\n\\n\\n\\n\\n\\n\\n\\n\\n\\nTamanho de fonte\\n\\nA\\nA\\nA\\nA\\n\\n\\n\\nAlto contraste\\n\\nLigado\\nDesligado\\n\\n\\n\\nAltura de linha\\n\\n1\\n1.3\\n1.5\\n1.7\\n2.0\\n\\n\\n\\n \\n\\n\\n\\nPesquisar na plataforma\\n\\n\\n\\n\\n\\nEntrar\\nCadastrar\\n\\n\\n\\n\\n\\nBlog\\n\\n\\nArtigos\\n\\n\\nTutoriais\\n\\n\\nMateriais Extras\\n\\n\\nEscreva para nós!\\n200xp \\n\\n\\n\\n\\n\\n\\n\\n\\n\\n\\n            Home          \\n\\n\\n\\n\\n            Blog          \\n\\n\\n\\n\\n            Programação Python          \\n\\n\\n\\nLista em Python: o que são e como funcionam\\n\\n\\nRenata Lopes\\n\\n\\n\\n\\n\\n              16 minutos de leitura\\n            \\n\\n\\n              12/04/2024 • Atualizado 7 meses atrás \\n5xp \\n\\n\\n\\n\\n\\n\\n\\n\\n\\n\\n\\nJá conhece a lista em Python? Quer entender como manipular listas e quais são suas principais utilidades e métodos? Sabe qual a diferença entre listas e tuplas? Este artigo responde responde isso e muito mais! Aproveite ao máximo todo o potencial dessa estrutura de dados essencial para a programação em Python.\\nA lista em Python é uma das estruturas de dados fundamentais da linguagem Python. Além de possuir grande versatilidade, as listas são extremamente relevantes para iniciantes na programação, por incorporar uma variedade de conceitos básicos de Python como mutabilidade, indexação, iteração e slicing. Mas você já conhece as listas de Python a fundo?\\nNeste artigo, vamos nos aprofundar nas listas em Python e aprender a utilizá-las em seus códigos. Ao longo do texto, você aprenderá como criar e manipular uma lista em Python, quais os principais métodos de listas, e como elas se relacionam e com outros tipos de dados de Python, como strings, tuplas e vetores. Vamos lá!\\n\\n\\n      Curso Gratuito    \\n\\n \\n\\nSeu primeiro projeto Python – curso grátis com certificado!\\nVá do zero ao primeiro projeto em apenas 2 horas com o curso Python para Iniciantes.\\nComece agora\\n\\n\\nO que é uma lista em Python?\\nUma lista em Python é uma estrutura de dados que armazena uma sequência de valores. As listas em Python são classificadas como um tipo de dado mutável, e portanto não possuem tamanho fixo: podemos adicionar ou remover elementos de listas de maneira dinâmica ao longo do código. \\nOs valores dentro de uma lista podem ser de diferentes tipos, como números inteiros (ints) e números reais (floats), textos (strings), valores verdadeiros ou falsos (bools) e até mesmo outras estruturas de dados, como dicionários, tuplas ou outras listas.\\nPara que serve uma lista em Python?\\nFrequentemente usamos as listas em Python para guardar uma sequência de valores de nosso interesse. Esses valores podem representar o número vendas mensais de uma loja, ou os nomes de animais de estimação de alguém. Além disso, a ordem em que os valores estão armazenados também costuma representar alguma informação. No caso do número de vendas mensais, faz sentido criar a lista de forma que o primeiro elemento seu seja o número de vendas em Janeiro, seguido das vendas em Fevereiro, Março e assim por diante.\\nComo criar uma lista em Python?\\nPara criar uma lista, basta utilizar colchetes ( [ ] ) e escrever os valores dentro deles, separados por vírgulas ( , ):\\nnumeros = [1, 2, 3, 4, 5]Testar\\nNão é obrigatório que todos os valores sejam do mesmo tipo de dado. Dentro de uma mesma lista, podemos misturar valores de diferentes tipos:\\nminha_lista = [10, \"Asimov\", 3.15, True, \"Python\"]Testar\\nComo criar uma lista vazia\\nPara criar uma lista vazia em Python, podemos abrir e fechar colchetes sem inserir nenhum valor dentro deles:\\nlista_vazia = []Testar\\nO mesmo acontece se usarmos a função list() sem passar nenhum valor como argumento:\\nlista_vazia = list()Testar\\nComo criar uma lista dentro de lista\\nPara criarmos listas dentro de listas (também conhecido como lista aninhada), é preciso abrir e fechar múltiplos colchetes: \\nlista_aninhada = [1, 2, [\"olá\", \"mundo\"], 3, 4, 5]Testar\\nTome cuidado para não esquecer um colchete aberto sem fechá-lo. Caso contrário, você encontrará um erro de sintaxe (SyntaxError), o que travará o seu programa:\\nlista_aninhada = [1, 2, [\"olá\", \"mundo\"], 3, 4, 5\\n# SyntaxError: \\'[\\' was never closedTestar\\nComo criar uma lista por compreensão de lista\\nUma compreensão de lista é uma forma de criarmos uma lista em Python a partir de outra. As compreensões de lista possuem uma sintaxe um pouco mais avançada, que essencialmente combina um for loop com a criação de uma lista nova:\\nnumeros = [1, 2, 3, 4, 5]\\n\\nnumeros_vezes_dois = [n * 2 for n in numeros]\\n\\nprint(numeros_vezes_dois)\\n# output: [2, 4, 6, 8, 10]Testar\\nNo exemplo acima, a lista numeros_vezes_dois é composta pelos elementos da lista numeros multiplicados por 2. Esta lógica está explícita na expressão n * 2 for n in numeros.\\nComo usar listas em Python?\\nAssim como outras estruturas de dados em Python, as listas em Python possuem diversas funcionalidades específicas, como adicionar ou remover algum elemento. Geralmente, estas funcionalidades estão implementadas na forma de métodos de lista ou pelo uso de operadores em Python.\\nVamos conhecer a seguir algumas das principais formas de usar listas em Python.\\nAdicionar um elemento a uma lista\\nPara adicionar um elemento a uma lista, podemos utilizar o método append():\\nminha_lista = [1, 2, 3]\\nminha_lista.append(4)\\n\\nprint(minha_lista)\\n# output: [1, 2, 3, 4]Testar\\nAcessar um elemento em uma lista\\nPara acessar um elemento, utilizamos o índice do elemento e o passamos para a lista através de colchetes ( [ ] ). Cada elemento dentro de uma lista possui um índice numérico partindo de zero. Assim, podemos acessar o primeiro elemento de uma lista com a sintaxe minha_lista[0], o segundo com minha_lista[1] e assim por diante.\\nVeja outros exemplos abaixo:\\nminha_lista = [\"olá\", \"mundo\", \"Asimov\", \"Academy\"]\\n\\nprint(minha_lista[0])  # Primeiro elemento\\n# output: olá\\n\\nprint(minha_lista[2])  # Terceiro elemento\\n# output: AsimovTestar\\nHá dois pontos a destacar sobre os índices de uma lista. O primeiro é que podemos passar índices negativos para pegar elementos partindo do final da lista:\\nminha_lista = [\"olá\", \"mundo\", \"Asimov\", \"Academy\"]\\n\\nprint(minha_lista[-1])  # Último elemento\\n# output: Academy\\n\\nprint(minha_lista[-2])  # Penúltimo elemento\\n# output: AsimovTestar\\nO segundo ponto é que índices além dos limites da lista causam um exceção do tipo IndexError, portanto cuide para não exceder os seus limites:\\nminha_lista = [\"olá\", \"mundo\", \"Asimov\", \"Academy\"]\\n\\nprint(minha_lista[100])\\n# IndexError: list index out of rangeTestar\\nModificar um elemento em uma lista\\nPara modificar um elemento de uma lista, usamos a mesma sintaxe usada para acessar um elemento, e o atribuímos a algum novo valor. Por exemplo, minha_lista[1] = \"Novo Valor\" atualizará o segundo valor da lista minha_lista para \"Novo Valor\".\\nAcompanhe nos exemplos abaixo:\\nminha_lista = [\"olá\", \"mundo\", \"Asimov\", \"Academy\"]\\n\\nminha_lista[1] = \"Novo Valor\"\\nprint(minha_lista)\\n\\n# output: [\\'olá\\', \\'Novo Valor\\', \\'Asimov\\', \\'Academy\\']Testar\\nRemover um elemento de uma lista\\nPara remover um elemento de uma lista, usamos a palavra-chave del junto do índice do elemento que queremos remover:\\nminha_lista = [\"olá\", \"mundo\", \"Asimov\", \"Academy\"]\\n\\ndel minha_lista[1]\\nprint(minha_lista)\\n\\n# output: [\\'olá\\', \\'Asimov\\', \\'Academy\\']Testar\\nComo verificar se uma lista está vazia\\nUma lista vazia em Python possui zero elementos dentro de si. Portanto, uma forma de verificar se a lista está vazia é usar a função len() e comparar o resultado obtido com zero:\\nminha_lista = []\\n\\nif len(minha_lista) == 0:\\n    print(\\'Lista está vazia\\')\\nelse:\\n    print(\\'Lista não está vazia\\')Testar\\nPara simplificar o processo acima, Python também nos permite verificar se uma lista está vazia usando apenas a palavra-chave if, fazendo assim uma comparação mais sucinta:\\nminha_lista = []\\n\\nif minha_lista:  # Equivalente a if len(minha_lista) == 0:\\n    print(\\'Lista está vazia\\')\\nelse:\\n    print(\\'Lista não está vazia\\')Testar\\nBuscar um elemento em uma lista\\nPodemos verificar se um elemento qualquer existe dentro de uma lista de Python usando o operador in. Por exemplo, a expressão 2 in [1, 2, 3] resulta em True porque o valor 2 está na lista.\\nVeja outros exemplos de uso:\\nminha_lista = [1, 2, 3, 4, 5]\\n\\nprint(1 in minha_lista)\\n# output: True\\n\\nprint(10 in minha_lista)\\n# output: False\\n\\nprint(\\'1\\' in minha_lista)\\n# output: FalseTestar\\nJuntar duas listas em Python\\nPodemos juntar duas listas em Python utilizando o operador de soma ( + ). Essa operação realiza a concatenação das duas listas, isto é, coloca todos os elementos da segunda lista ao final da primeira:\\nl1 = [1, 2, 3]\\nl2 = [4, 5, 6]\\n\\nminha_lista = l1 + l2\\nprint(minha_lista)\\n# output: [1, 2, 3, 4, 5, 6]Testar\\nOs principais métodos de lista em Python\\nComo vimos anteriormente, as listas em Python possuem métodos: funções que estão atreladas ao tipo de dado lista. Vamos agora passar pelos principais métodos de listas em Python, explicando como e para que usá-los.\\nAdicionar elementos com append() e extend()\\nJá aprendemos sobre o método de listas append(). Ele é usado para adicionar um valor como um elemento ao final de uma lista qualquer:\\nminha_lista = [1, 2, 3]\\nminha_lista.append(4)\\n\\nprint(minha_lista)\\n\\n# output: [1, 2, 3, 4]Testar\\nPodemos também usar o método de lista extend() para adicionar valores novos a uma lista. Este método pega todos os elementos de uma outra sequência e os adiciona para dentro da lista, um a um:\\nminha_lista = [1, 2, 3]\\nminha_lista.extend([4, 5])\\n\\nprint(minha_lista)\\n\\n# output: [1, 2, 3, 4, 5]Testar\\nQual a diferença entre os métodos append() e extend()?  Enquanto o método append() adiciona um único elemento (mesmo que este seja uma sequência), o método extend() adiciona um elemento na lista para cada elemento existente. Note a diferença sutil no código abaixo, ao utilizarmos o append() no lugar do extend():\\nminha_lista = [1, 2, 3]\\nminha_lista.append([4, 5])\\n\\nprint(minha_lista)\\n\\n# output: [1, 2, 3, [4, 5]]Testar\\nInserir elementos em uma posição específica com insert()\\nO método insert() funciona de forma similar ao append(), porém permite escolher a posição em que inserir o valor, ao invés de automaticamente adicioná-lo ao final da lista. O elemento na posição escolhida acaba “empurrando” todo o resto da lista para a direita.\\nVeja o exemplo: \\nminha_lista = [\"oi\", \"tudo\", \"bem?\"]\\nminha_lista.insert(1, \"Python\")\\n\\nprint(minha_lista)\\n\\n# output: [\\'oi\\', \\'Python\\', \\'tudo\\', \\'bem?\\']Testar\\nRemover elementos com pop() e remove()\\nAlém da palavra-chave del, podemos usar os métodos pop() e remove() para remover elementos de uma lista. O método pop() retira o último elemento da lista e o retorna, funcionando quase como um “append() ao contrário”:\\nminha_lista = [\"oi\", \"tudo\", \"bem?\"]\\nultimo_elemento = minha_lista.pop()\\n\\nprint(minha_lista)\\n# output: [\\'oi\\', \\'tudo\\']\\n\\nprint(ultimo_elemento)\\n# output: bem?Testar\\nJá o método remove() retira um item de dentro da lista, o qual devemos passar como argumento:\\nminha_lista = [\"oi\", \"tudo\", \"bem?\"]\\nminha_lista.remove(\"tudo\")\\n\\nprint(minha_lista)\\n# output: [\\'oi\\', \\'bem?\\']Testar\\nCuidado para não passar um elemento que não está na lista ao usar o método remove(). Se isso acontecer, você encontrará um ValueError:\\nminha_lista = [\"oi\", \"tudo\", \"bem?\"]\\nminha_lista.remove(\"Python\")\\n# ValueError: list.remove(x): x not in listTestar\\nLimpar uma lista com clear()\\nSe quisermos remover todos os elementos de uma lista, podemos usar o método clear(). Ele funciona como uma maneira de “resetar” a lista para o estado vazio:\\nminha_lista = [\"oi\", \"tudo\", \"bem?\"]\\nminha_lista.clear()\\n\\nprint(minha_lista)\\n# output: []Testar\\nEncontrar a posição de um elemento com index()\\nPodemos usar o método index() para encontrar o índice de um elemento na lista:\\nminha_lista = [\"oi\", \"tudo\", \"bem?\"]\\nindice = minha_lista.index(\"oi\")\\n\\nprint(indice)\\n# output: 0Testar\\nAqui vale o mesmo aviso que no método remove(): se passarmos um valor inexistente como argumento do método index(), causaremos um ValueError.\\nContar ocorrências de um elemento com count()\\nO método count() serve para contar o número de vezes que um determinado elemento aparece na lista. Isto é útil se quisermos calcular a frequência de um elemento na lista, por exemplo:\\nminha_lista = [0, 1, 1, 0, 1, 1, 1, 0, 0, 1]\\nnumeros_zero = minha_lista.count(0)\\n\\nprint(numeros_zero)\\n# output: 4Testar\\nOrdenar ou inverter uma lista com sort() ou reverse()\\nPodemos mudar o ordenamento dos elementos de uma lista com os métodos lista sort() e reverse(). O método sort() ordena os elementos do maior para o menor:\\nvalores = [10, 3, 9, 11, 12, 5, -1]\\nvalores.sort()\\n\\nprint(valores)\\n# output: [-1, 3, 5, 9, 10, 11, 12]Testar\\nUm ponto importante com o método sort() é que os elementos devem ser comparáveis entre si. Por exemplo, se tentarmos usar o método sort() em uma lista contendo números e strings, o Python causará um , já que ele não sabe qual valor considerar “maior” que outro:\\nvalores = [10, 3, \"Asimov\"]\\nvalores.sort()\\n# TypeError: \\'<\\' not supported between instances of \\'str\\' and \\'int\\'Testar\\nJá o método reverse() simplesmente inverte o ordenamento da lista. O primeiro elemento se torna o último, e assim por diante:\\nminha_lista = [\"oi\", \"tudo\", \"bem?\"]\\nminha_lista.reverse()\\n\\nprint(minha_lista)\\n# output: [\\'bem?\\', \\'tudo\\', \\'oi\\']Testar\\nCriar uma cópia de uma lista com copy()\\nMuitos iniciantes em programação Python cometem o erro de criar uma segunda variável para uma lista, na tentativa de fazer uma cópia da lista. Isto não funciona, como fica evidente no trecho de código abaixo:\\nlista1 = [1, 2, 3]\\nlista2 = lista1\\n\\ndel lista2[0]  # primeiro elemento da lista2 deletado\\n\\nprint(lista1)  # lista1 também foi afetada??\\n# output: [2, 3]Testar\\nIsso acontece porque as listas são mutáveis. Portanto, as duas variáveis estão “apontando” para o mesmo objeto de lista. Quando alteramos este objeto por meio da variável lista2, essa mudança se refletirá ao exibirmos o valor da variável lista1 — afinal de contas, ambas estão vinculadas ao mesmo objeto.\\nNo lugar disso, se quisermos trabalhar com uma cópia independente da lista, precisamos utilizar o método copy():\\nlista1 = [1, 2, 3]\\nlista2 = lista1.copy()  # cópia independente criada\\n\\ndel lista2[0]  # primeiro elemento da lista2 deletado\\n\\nprint(lista1)  # lista1 não foi afetada!\\n# output: [1, 2, 3]Testar\\nListas e outras estruturas de dados em Python\\nAgora que já aprendemos o que são listas, como criar e usar listas em Python, e quais os seus principais métodos, vamos entender como as listas se comparam a outros tipos de dados muito comuns na linguagem Python. \\nComo transformar uma lista em um string?\\nPara transformar uma lista em um string, podemos simplesmente utilizar a função str(). Isto produzirá uma representação em texto da lista e de seus elementos:\\nminha_lista = [1, 2, 3]\\nminha_lista_texto = str(minha_lista)\\n\\nprint(minha_lista_texto)\\n# output: [1, 2, 3]\\n\\n\\nprint(type(minha_lista_texto))\\n# output: <class \\'str\\'>Testar\\nApesar do output visualmente semelhante, não se engane: a variável minha_lista_texto é do tipo string, ou seja, um texto.\\nSe quisermos adicionar algum caractere específico ou formatação entre os valores da lista, podemos utilizar o método de string join(), que une os elementos da lista em um string, ao mesmo tempo em que insere caracteres entre os elementos.\\nVeja o exemplo:\\nminha_lista = [1, 2, 3]\\ntexto = \"---\".join(minha_lista)\\n\\nprint(texto)\\n# output: 1---2---3Testar\\nQual é a diferença entre uma lista e uma tupla em Python?\\nListas e tuplas são estruturas de dados muito semelhantes em Python. A principal diferença entre elas é que as tuplas são imutáveis, enquanto as listas são mutáveis. Isso significa que não é possível adicionar, remover ou modificar valores dentro de tuplas.\\nIsso pode parecer uma diferença pequena, mas tem algumas consequências práticas. Por exemplo, tuplas podem ser utilizadas em locais onde os dados devem obrigatoriamente ser imutáveis, como em chaves de um dicionário. \\nQual é a diferença entre uma lista e um conjunto (set) em Python?\\nListas e conjuntos (sets) são ambos sequências mutáveis de elementos. Contudo, diferente de listas, conjuntos não possuem ordem. Em decorrência disso, não é possível acessar o primeiro ou terceiro elemento de um conjunto, já que eles não permitem indexação.\\nOutra diferença é que os elementos de um conjunto são únicos, enquanto em uma lista o mesmo elemento pode aparecer mais de uma vez. Uma consequência interessante disso é que, se quisermos remover valores duplicados de uma lista, podemos transformar uma lista em um conjunto (através da função set() ) e depois de volta para uma lista, conforme o exemplo abaixo:\\nminha_lista = [0, 1, 1, 0, 1, 1, 0, 0]\\nminha_lista = list(set(minha_lista))\\n\\nprint(minha_lista)\\n# output: [0, 1]Testar\\nQual é a diferença entre uma lista e um vetor (array) em Python?\\nUma lista em Python é diferente de um vetor (também chamado de arranjo ou array). As listas não possuem as operações que esperamos de um vetor matemático, como soma de vetor e escalar ou produto vetorial. Se quisermos criar uma sequência de números que representem um vetor matemático, teremos que usar outras estruturas de dados, como os arrays do NumPy.\\nPython possui um objeto array (vetor) em sua biblioteca padrão, que é considerado um tipo de dado embutido na linguagem. Dito isso, a comunidade de ciência de dados usa quase que exclusivamente a biblioteca NumPy (nome derivado do inglês Numerical Python) para trabalhar com vetores, que precisa ser instalada com pip.\\nVeja no exemplo a seguir o tipo de operação que podemos fazer com vetores do NumPy, mas não com listas:\\n# Usando arrays do numpy\\nimport numpy as np\\n\\na = np.array([1, 2, 3])\\n\\nprint(a + 5)  # Soma de vetor com escalar\\n# output: [6, 7, 8]\\n\\n\\n# Usando listas\\na = [1, 2, 3]\\n\\nprint(a + 1)  # Essa operação não existe para listas!\\n# TypeError: can only concatenate list (not \"int\") to listTestar\\nComo criar uma matriz com listas em Python?\\nPara criar uma matriz em Python utilizando listas, podemos criar listas aninhadas, isto é, listas dentro de listas. Nessa lógica, cada lista interna dentro da lista principal representa uma linha da matriz:\\nmatriz = [[1, 2, 3], [4, 5, 6], [7, 8, 9]]\\n\\nprint(matriz)\\n# output: [[1, 2, 3], [4, 5, 6], [7, 8, 9]]\\n\\nprimeira_linha = matriz[0]\\n\\nprint(primeira_linha)\\n# output: [1, 2, 3]Testar\\nDito isso, quando trabalhamos com análise de dados, é muito mais comum utilizarmos arrays do NumPy para representar matrizes. A construção de uma matriz no NumPy é virtualmente idêntica (usamos listas dentro de listas):\\n# Matriz do numpy\\nmatriz = np.array([[1, 2, 3], [4, 5, 6], [7, 8, 9]])\\n\\nprint(matriz)\\n# output: \\n# [[1 2 3]\\n#  [4 5 6]\\n#  [7 8 9]]Testar\\nContudo, o uso de arrays do NumPy para representar uma matriz traz grandes benefícios quando precisamos fazer cálculos matemáticos, uma vez que podemos utilizar todas as funcionalidades de álgebra linear existentes na biblioteca, além de ferramentas como a indexação avançada de arrays do NumPy para selecionar linhas ou colunas.\\nConclusão\\nNeste artigo, aprendemos o que é uma lista em Python e como podemos criá-las e manipulá-las. Vimos também quais são os principais métodos de listas e aprendemos como as listas se relacionam a outros tipos de dado.\\nResumindo: com as listas de Python, podemos trabalhar com sequências de valores de qualquer tipo e tamanho e executar diversas operações, como adicionar, remover, ordenar e buscar elementos. Portanto, é fundamental que todo programador em Python tenha um bom conhecimento das listas e suas principais funcionalidades, de modo a utilizá-las de maneira efetiva em seus projetos e soluções.\\nSe você quiser aprender mais sobre Python, recomendamos assistir ao Python para Iniciantes: do zero ao primeiro projeto, o curso gratuito de Python da Asimov Academy que te leva do zero ao seu primeiro webapp em menos de duas horas. Até a próxima!\\n\\n\\n\\n\\n\\n\\nCursos de programação gratuitos com certificado\\nAprenda a programar e desenvolva soluções para o seu trabalho com Python para alcançar novas oportunidades profissionais. Aqui na Asimov você encontra:\\n\\nConteúdos gratuitos\\nProjetos práticos\\nCertificados\\n+20 mil alunos e comunidade exclusiva\\nMateriais didáticos e download de código\\n\\nInicie agora\\n\\n\\n\\n\\n\\n\\n\\nComentários\\n30xp \\n\\n\\n\\n\\n\\n\\n\\n\\n\\n\\n\\nComentar\\n\\n\\n\\n\\n\\n        Faça parte da discussão        Crie sua conta gratuita e compartilhe  sua opinião nos comentários\\n\\nEntre para a Asimov\\n\\n\\n\\n\\n\\n\\n\\n\\n\\n\\n\\nEdite seu comentário:\\n\\n\\n\\n\\nDigite seu comentário aqui\\n\\n\\n\\n\\n\\n\\n\\n\\n\\n\\n\\n\\n\\n\\n\\n\\n\\n\\n\\n\\n \\nComentar\\n\\n\\n\\n\\n\\n\\n\\n\\n\\nMude seu trabalho sem mudar de profissão\\nDê o primeiro passo para aplicar programação na sua profissão com nossos curso gratuitos.\\nSaiba mais\\n \\n\\n\\nConteúdo do artigo\\n\\n\\n\\nTags:\\n\\n\\n\\n              compreensão de listas            \\n\\n\\n\\n              listas            \\n\\n\\n\\n              métodos de lista            \\n\\n\\n\\n\\nCompartilhe\\n\\n\\n\\n\\n\\n\\n\\n\\n\\n\\n\\n\\n \\n \\n\\n\\n\\n\\n\\n\\n\\n\\n\\n\\n\\n\\n\\n\\n\\n\\nInscreva-se na nossa newsletter\\n\\n\\nInscrever-se\\n\\n\\n\\n\\n\\n\\n\\n\\n\\n\\n\\n\\n\\n\\n\\n\\n\\n\\n\\n\\n\\n\\n\\n\\n\\n\\n\\n\\n\\n\\n\\n\\n\\n\\n\\n\\n\\n \\n\\n\\nInstitucional\\nHome\\nSobre nós\\nManifesto Asimov\\nTermos de uso\\nPolítica de privacidade\\n \\n\\nConteúdos\\nBlog\\nTutoriais\\nNewsletter\\n \\n\\nPlataforma\\nCursos\\nTrilhas\\nProjetos\\nCompilador de Python Online\\n \\n\\nFale conosco\\nE-mail\\nWhatsapp\\nPerguntas frequentes\\n \\n\\nMatricule-se\\nPlanos\\nPara empresas\\n \\n\\n\\n\\n\\nTodos os direitos reservados. Política de Privacidade  - Termos de Uso\\nCNPJ: 41.075.192/0001-82\\n\\n\\n\\n\\n\\nEste site utiliza cookies para melhorar sua experiência. Ao continuar navegando, você concorda com o uso de cookies.\\n\\nAceitar\\nSaiba mais\\n\\n\\n\\n\\n\\n\\n\\n\\n\\n\\n\\n\\n\\n\\n\\n\\n\\n'"
      ]
     },
     "execution_count": 11,
     "metadata": {},
     "output_type": "execute_result"
    }
   ],
   "source": [
    "documentos[0].page_content"
   ]
  }
 ],
 "metadata": {
  "kernelspec": {
   "display_name": "Python 3",
   "language": "python",
   "name": "python3"
  },
  "language_info": {
   "codemirror_mode": {
    "name": "ipython",
    "version": 3
   },
   "file_extension": ".py",
   "mimetype": "text/x-python",
   "name": "python",
   "nbconvert_exporter": "python",
   "pygments_lexer": "ipython3",
   "version": "3.12.3"
  }
 },
 "nbformat": 4,
 "nbformat_minor": 5
}
