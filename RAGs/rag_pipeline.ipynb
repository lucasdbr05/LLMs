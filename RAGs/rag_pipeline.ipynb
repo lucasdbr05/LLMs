{
 "cells": [
  {
   "cell_type": "markdown",
   "id": "7a20c07b",
   "metadata": {},
   "source": [
    "# RAG"
   ]
  },
  {
   "cell_type": "code",
   "execution_count": 1,
   "id": "a0f6dddb",
   "metadata": {},
   "outputs": [],
   "source": [
    "from langchain_ollama import OllamaEmbeddings\n",
    "from langchain_community.vectorstores.faiss import FAISS\n",
    "from langchain_community.document_loaders.pdf import PyPDFLoader\n",
    "from langchain_text_splitters import RecursiveCharacterTextSplitter"
   ]
  },
  {
   "cell_type": "code",
   "execution_count": 2,
   "id": "104f9a02",
   "metadata": {},
   "outputs": [],
   "source": [
    "caminhos = [\n",
    "    \"samples/LangChain.pdf\",\n",
    "    ]\n",
    "\n",
    "paginas = []\n",
    "for caminho in caminhos:\n",
    "    loader = PyPDFLoader(caminho)\n",
    "    paginas.extend(loader.load())\n",
    "\n",
    "recur_split = RecursiveCharacterTextSplitter(\n",
    "    chunk_size=1000,\n",
    "    chunk_overlap=100,\n",
    "    separators=[\"\\n\\n\", \"\\n\", \".\", \" \", \"\"]\n",
    ")\n",
    "\n",
    "documents = recur_split.split_documents(paginas)\n",
    "\n",
    "for i, doc in enumerate(documents):\n",
    "    doc.metadata['source'] = doc.metadata['source'].replace('samples/', '')\n",
    "    doc.metadata['doc_id'] = i"
   ]
  },
  {
   "cell_type": "code",
   "execution_count": null,
   "id": "4cae9063",
   "metadata": {},
   "outputs": [],
   "source": [
    "vectorstore = FAISS.from_documents(\n",
    "    documents=documents,\n",
    "    embedding=OllamaEmbeddings(model=\"llama2\")\n",
    ")"
   ]
  },
  {
   "cell_type": "code",
   "execution_count": null,
   "id": "e411320b",
   "metadata": {},
   "outputs": [],
   "source": [
    "from langchain_core.prompts import ChatPromptTemplate\n",
    "\n",
    "prompt = ChatPromptTemplate.from_template(\n",
    "    '''Responda as perguntas se baseando no contexto fornecido.\n",
    "    \n",
    "    contexto: {contexto}\n",
    "    \n",
    "    pergunta: {pergunta}''')"
   ]
  },
  {
   "cell_type": "code",
   "execution_count": null,
   "id": "5a01f63b",
   "metadata": {},
   "outputs": [],
   "source": [
    "from langchain_core.runnables import RunnableParallel, RunnablePassthrough\n",
    "\n",
    "\n",
    "retriever = vectorstore.as_retriever(search_type='mmr', search_kwargs={'k': 5, 'fetch_k': 25})\n",
    "setup = RunnableParallel({\n",
    "    'pergunta': RunnablePassthrough(),\n",
    "    'contexto': retriever\n",
    "})"
   ]
  },
  {
   "cell_type": "code",
   "execution_count": null,
   "id": "6b865a4d",
   "metadata": {},
   "outputs": [],
   "source": [
    "input_ = setup.invoke('O que é a OpenAI?')\n",
    "input_"
   ]
  },
  {
   "cell_type": "code",
   "execution_count": null,
   "id": "64cf4295",
   "metadata": {},
   "outputs": [],
   "source": [
    "def join_documents(input):\n",
    "    input['contexto'] = '\\n\\n'.join([c.page_content for c in input['contexto']])\n",
    "    return input\n",
    "\n",
    "setup = RunnableParallel({\n",
    "    'pergunta': RunnablePassthrough(),\n",
    "    'contexto': retriever\n",
    "}) | join_documents"
   ]
  },
  {
   "cell_type": "code",
   "execution_count": null,
   "id": "75eaa0b5",
   "metadata": {},
   "outputs": [],
   "source": [
    "input_ = setup.invoke('O que é a LangChain?')\n",
    "input_['contexto']"
   ]
  },
  {
   "cell_type": "code",
   "execution_count": null,
   "id": "b442ed75",
   "metadata": {},
   "outputs": [],
   "source": [
    "from langchain_ollama.chat_models import ChatOllama\n",
    "\n",
    "chain = setup | prompt | ChatOllama(model=\"llama2\")\n",
    "chain.invoke('O que é a LangChain?')"
   ]
  },
  {
   "cell_type": "code",
   "execution_count": null,
   "id": "6d3bf7bc",
   "metadata": {},
   "outputs": [],
   "source": [
    "prompt = ChatPromptTemplate.from_template(\n",
    "    '''Responda as perguntas se baseando no contexto fornecido.\n",
    "    \n",
    "    contexto: {contexto}\n",
    "    \n",
    "    pergunta: {pergunta}''')\n",
    "\n",
    "retriever = vectorstore.as_retriever(search_type='mmr', search_kwargs={'k': 5, 'fetch_k': 25})\n",
    "\n",
    "\n",
    "setup = RunnableParallel({\n",
    "    'pergunta': RunnablePassthrough(),\n",
    "    'contexto': retriever\n",
    "}) | join_documents\n",
    "\n",
    "chain = setup | prompt | ChatOllama()\n",
    "chain.invoke('O que é a LangChain?')"
   ]
  }
 ],
 "metadata": {
  "kernelspec": {
   "display_name": "Python 3",
   "language": "python",
   "name": "python3"
  },
  "language_info": {
   "codemirror_mode": {
    "name": "ipython",
    "version": 3
   },
   "file_extension": ".py",
   "mimetype": "text/x-python",
   "name": "python",
   "nbconvert_exporter": "python",
   "pygments_lexer": "ipython3",
   "version": "3.12.3"
  }
 },
 "nbformat": 4,
 "nbformat_minor": 5
}
